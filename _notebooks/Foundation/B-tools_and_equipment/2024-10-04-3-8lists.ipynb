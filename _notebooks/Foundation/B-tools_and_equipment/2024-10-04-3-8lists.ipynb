{
 "cells": [
  {
   "cell_type": "code",
   "execution_count": null,
   "metadata": {},
   "outputs": [],
   "source": [
    "---\n",
    "layout: post\n",
    "title:  Tool Hacks\n",
    "description: These hacks are for tools that are used in the development process. Completing these hacks will help you to understand the tools better and are foundational for the course\n",
    "categories: [DevOps]\n",
    "permalink: /devops/3-8-hacks\n",
    "menu: nav/tools_setup.html\n",
    "toc: true\n",
    "comments: true\n",
    "---"
   ]
  },
  {
   "cell_type": "code",
   "execution_count": null,
   "metadata": {},
   "outputs": [],
   "source": [
    "# Looping through a list\n",
    "vegetables = [\"🥒\", \"🥑\", \"🥕\"]\n",
    "for x in vegetables:\n",
    "    print(x)\n",
    "\n",
    "# Looping through a string\n",
    "for x in \"avocado\":\n",
    "    print(x)\n",
    "\n",
    "# Break statement in a loop\n",
    "vegetables = [\"🥒\", \"🥑\", \"🥕\"]\n",
    "for x in vegetables:\n",
    "    print(x)\n",
    "    if x == \"🥑\":\n",
    "        break\n",
    "\n"
   ]
  },
  {
   "cell_type": "code",
   "execution_count": null,
   "metadata": {},
   "outputs": [],
   "source": [
    "%%javascript\n",
    "// Looping through an array\n",
    "const fruits = ['apple', 'banana', 'cherry'];\n",
    "\n",
    "for (let i = 0; i < fruits.length; i++) {\n",
    "    console.log(fruits[i]);\n",
    "}\n",
    "\n",
    "// Looping through a string\n",
    "const str = \"Hello, World!\";\n",
    "for (let i = 0; i < str.length; i++) {\n",
    "    console.log(str[i]);\n",
    "}\n"
   ]
  },
  {
   "cell_type": "code",
   "execution_count": null,
   "metadata": {},
   "outputs": [],
   "source": [
    "# Looping through a list of fruits\n",
    "fruits = ['🍎', '🍌', '🍒']\n",
    "for fruit in fruits:\n",
    "    print(fruit)\n"
   ]
  },
  {
   "cell_type": "code",
   "execution_count": null,
   "metadata": {},
   "outputs": [],
   "source": [
    "# Looping through a dictionary\n",
    "person = {'name': 'Mihir', 'age': 15, 'school': 'Del Norte High School'}\n",
    "\n",
    "# Looping through keys\n",
    "for key in person:\n",
    "    print(key, person[key])\n",
    "\n",
    "# Looping through values\n",
    "for value in person.values():\n",
    "    print(value)\n",
    "\n",
    "# Looping through keys and values\n",
    "for key, value in person.items():\n",
    "    print(f\"{key}: {value}\")\n"
   ]
  },
  {
   "cell_type": "code",
   "execution_count": null,
   "metadata": {},
   "outputs": [],
   "source": [
    "# Initialize the control variable\n",
    "count = 1  # Changed from \"number\" to \"count\"\n",
    "\n",
    "# While loop that runs as long as the counter is less than or equal to 5\n",
    "while count <= 5:\n",
    "    print(\"Count is:\", count)\n",
    "    \n",
    "    # Update the control variable (increment by 1)\n",
    "    count += 1\n"
   ]
  },
  {
   "cell_type": "code",
   "execution_count": null,
   "metadata": {},
   "outputs": [],
   "source": [
    "%%js\n",
    "let x = 10;  // Changed from \"i\" to \"x\" for control variable\n",
    "\n",
    "while (x >= 0) {  // Condition: loop runs as long as x is greater than or equal to 0\n",
    "    console.log(\"Countdown: \" + x);  // Output the current value of x\n",
    "    x--;  // Decrement the value of x\n",
    "}\n",
    "\n",
    "console.log(\"Liftoff!\");  // Message after the loop completes\n"
   ]
  },
  {
   "cell_type": "code",
   "execution_count": null,
   "metadata": {},
   "outputs": [],
   "source": [
    "# Initialize a control variable\n",
    "count = 1  # Changed from \"number\" to \"count\"\n",
    "\n",
    "# While loop to generate even numbers between 1 and 20\n",
    "while count <= 20:\n",
    "    if count % 2 == 0:\n",
    "        print(count)\n",
    "    count += 1\n"
   ]
  },
  {
   "cell_type": "code",
   "execution_count": null,
   "metadata": {},
   "outputs": [],
   "source": [
    "# Initialize a control variable\n",
    "count = 0\n",
    "\n",
    "# Mimicking a do-while loop\n",
    "while True:  # Infinite loop to mimic 'do'\n",
    "    print(\"The count is:\", count)\n",
    "    count += 1  # Increment the count\n",
    "    \n",
    "    # Check condition at the end (like in a do-while loop)\n",
    "    if count >= 5:\n",
    "        break  # Exit the loop when the condition is met\n"
   ]
  },
  {
   "cell_type": "code",
   "execution_count": null,
   "metadata": {},
   "outputs": [],
   "source": [
    "%%js\n",
    "let y = 0;  // Changed from \"count\" to \"y\" for the control variable\n",
    "\n",
    "do {\n",
    "    console.log(\"The count is: \" + y);\n",
    "    y++;  // Increment the count\n",
    "} while (y < 5);\n",
    "\n",
    "console.log(\"Loop is done.\");\n"
   ]
  },
  {
   "cell_type": "code",
   "execution_count": null,
   "metadata": {},
   "outputs": [],
   "source": [
    "# Initialize the control variable\n",
    "count = 1  # Changed from \"number\" to \"count\"\n",
    "\n",
    "# While loop that runs as long as the counter is less than or equal to 5\n",
    "while count <= 5:\n",
    "    print(\"Count is:\", count)\n",
    "    \n",
    "    # Update the control variable (increment by 1)\n",
    "    count += 1\n"
   ]
  },
  {
   "cell_type": "code",
   "execution_count": null,
   "metadata": {},
   "outputs": [],
   "source": [
    "%%js\n",
    "let x = 10;  // Changed from \"i\" to \"x\" for control variable\n",
    "\n",
    "while (x >= 0) {  // Condition: loop runs as long as x is greater than or equal to 0\n",
    "    console.log(\"Countdown: \" + x);  // Output the current value of x\n",
    "    x--;  // Decrement the value of x\n",
    "}\n",
    "\n",
    "console.log(\"Liftoff!\");  // Message after the loop completes\n"
   ]
  },
  {
   "cell_type": "code",
   "execution_count": null,
   "metadata": {},
   "outputs": [],
   "source": [
    "# Initialize a control variable\n",
    "count = 1  # Changed from \"number\" to \"count\"\n",
    "\n",
    "# While loop to generate even numbers between 1 and 20\n",
    "while count <= 20:\n",
    "    if count % 2 == 0:\n",
    "        print(count)\n",
    "    count += 1\n"
   ]
  },
  {
   "cell_type": "code",
   "execution_count": null,
   "metadata": {},
   "outputs": [],
   "source": [
    "# Initialize a control variable\n",
    "count = 0\n",
    "\n",
    "# Mimicking a do-while loop\n",
    "while True:  # Infinite loop to mimic 'do'\n",
    "    print(\"The count is:\", count)\n",
    "    count += 1  # Increment the count\n",
    "    \n",
    "    # Check condition at the end (like in a do-while loop)\n",
    "    if count >= 5:\n",
    "        break  # Exit the loop when the condition is met\n"
   ]
  },
  {
   "cell_type": "code",
   "execution_count": null,
   "metadata": {},
   "outputs": [],
   "source": [
    "%%js\n",
    "let y = 0;  // Changed from \"count\" to \"y\" for the control variable\n",
    "\n",
    "do {\n",
    "    console.log(\"The count is: \" + y);\n",
    "    y++;  // Increment the count\n",
    "} while (y < 5);\n",
    "\n",
    "console.log(\"Loop is done.\");\n"
   ]
  },
  {
   "cell_type": "code",
   "execution_count": null,
   "metadata": {},
   "outputs": [],
   "source": [
    "import random\n",
    "\n",
    "flip_result = \"\"  # Changed from \"flip\" to \"flip_result\"\n",
    "\n",
    "while flip_result != \"heads\":\n",
    "    flip_result = random.choice([\"heads\", \"tails\"])\n",
    "    print(f\"Flipped: {flip_result}\")\n",
    "\n",
    "print(\"Landed on heads!\")\n"
   ]
  },
  {
   "cell_type": "code",
   "execution_count": null,
   "metadata": {},
   "outputs": [],
   "source": [
    "# Modified FizzBuzz using a while loop\n",
    "count = 50  # Changed to start from 50\n",
    "\n",
    "while count <= 100:\n",
    "    if count % 4 == 0 and count % 5 == 0:\n",
    "        print(\"FizzBuzz\")\n",
    "    elif count % 4 == 0:\n",
    "        print(\"Fizz\")\n",
    "    elif count % 5 == 0:\n",
    "        print(\"Buzz\")\n",
    "    else:\n",
    "        print(count)\n",
    "    count += 1\n"
   ]
  },
  {
   "cell_type": "code",
   "execution_count": null,
   "metadata": {},
   "outputs": [],
   "source": [
    "attempts_left = 3  # Maximum attempts allowed\n",
    "correct_username = \"Mihir\"  # Changed username\n",
    "correct_password = \"password123\"  # Changed password\n",
    "\n",
    "# Simulating user login system\n",
    "while True:\n",
    "    username = input(\"Enter username: \")\n",
    "    password = input(\"Enter password: \")\n",
    "    \n",
    "    if username == correct_username and password == correct_password:\n",
    "        print(\"Login successful!\")\n",
    "        break\n",
    "    else:\n",
    "        attempts_left -= 1\n",
    "        if attempts_left == 0:\n",
    "            print(\"Account locked. Too many failed attempts.\")\n",
    "            break\n",
    "        print(f\"Incorrect credentials. You have {attempts_left} attempts left.\")\n"
   ]
  },
  {
   "cell_type": "code",
   "execution_count": null,
   "metadata": {},
   "outputs": [],
   "source": [
    "# List of items\n",
    "items = [\"Task 1\", \"Task 2\", \"Task 3\", \"Task 4\", \"Task 5\"]  # Updated item names\n",
    "\n",
    "# Loop through the items list and print each item with its index\n",
    "for index, item in enumerate(items):\n",
    "    print(f\"Index {index}: {item}\")\n"
   ]
  },
  {
   "cell_type": "code",
   "execution_count": null,
   "metadata": {},
   "outputs": [],
   "source": [
    "# List of tasks\n",
    "tasks = [\n",
    "    \"Complete coding project\",  # Changed task descriptions\n",
    "    \"Organize desk\",\n",
    "    \"Buy groceries\",\n",
    "    \"Write blog post\",\n",
    "    \"Go for a run\"\n",
    "]\n",
    "\n",
    "# Function to display tasks with indices\n",
    "def display_tasks():\n",
    "    print(\"Your Updated To-Do List:\")\n",
    "    for index in range(len(tasks)):\n",
    "        print(f\"{index + 1}. {tasks[index]}\")  # Display task with its index\n",
    "\n",
    "# Call the function\n",
    "display_tasks()\n"
   ]
  },
  {
   "cell_type": "code",
   "execution_count": 1,
   "metadata": {},
   "outputs": [
    {
     "data": {
      "application/javascript": "// List of tasks\nconst tasks = [\n    \"Complete coding project\",  // Changed task descriptions\n    \"Organize desk\",\n    \"Buy groceries\",\n    \"Write blog post\",\n    \"Go for a run\"\n];\n\n// Function to display tasks with indices\nfunction displayTasks() {\n    console.log(\"Your Updated To-Do List:\");\n    for (let index = 0; index < tasks.length; index++) {\n        console.log(`${index + 1}. ${tasks[index]}`); // Display task with its index\n    }\n}\n\n// Call the function\ndisplayTasks();\n",
      "text/plain": [
       "<IPython.core.display.Javascript object>"
      ]
     },
     "metadata": {},
     "output_type": "display_data"
    }
   ],
   "source": [
    "%%js\n",
    "// List of tasks\n",
    "const tasks = [\n",
    "    \"Complete coding project\",  // Changed task descriptions\n",
    "    \"Organize desk\",\n",
    "    \"Buy groceries\",\n",
    "    \"Write blog post\",\n",
    "    \"Go for a run\"\n",
    "];\n",
    "\n",
    "// Function to display tasks with indices\n",
    "function displayTasks() {\n",
    "    console.log(\"Your Updated To-Do List:\");\n",
    "    for (let index = 0; index < tasks.length; index++) {\n",
    "        console.log(`${index + 1}. ${tasks[index]}`); // Display task with its index\n",
    "    }\n",
    "}\n",
    "\n",
    "// Call the function\n",
    "displayTasks();\n"
   ]
  },
  {
   "cell_type": "code",
   "execution_count": null,
   "metadata": {},
   "outputs": [],
   "source": [
    "# Breaks when i equals 3\n",
    "for i in range(10): \n",
    "    if i == 3:\n",
    "        break\n",
    "    print(i)\n",
    "    \n",
    "# Loop stops when i reaches 3, so it prints 0, 1, 2\n"
   ]
  },
  {
   "cell_type": "code",
   "execution_count": null,
   "metadata": {},
   "outputs": [],
   "source": [
    "# No break condition matches, so the loop prints all numbers from 0 to 9\n",
    "for i in range(10): \n",
    "    if i == 40:\n",
    "        break\n",
    "    print(i)\n"
   ]
  },
  {
   "cell_type": "code",
   "execution_count": null,
   "metadata": {},
   "outputs": [],
   "source": [
    "%%js\n",
    "// Breaks when i equals 5\n",
    "for (let i = 0; i < 10; i++) {\n",
    "    if (i === 5) {\n",
    "        break;\n",
    "    }\n",
    "    console.log(i);\n",
    "}\n",
    "// Loop stops when i reaches 5, so it prints 0 to 4\n"
   ]
  },
  {
   "cell_type": "code",
   "execution_count": null,
   "metadata": {},
   "outputs": [],
   "source": [
    "%%js\n",
    "// Breaks when i equals 6, counting by 2\n",
    "for (let i = 0; i < 10; i += 2) {\n",
    "    if (i === 6) {\n",
    "        break;\n",
    "    }\n",
    "    console.log(i);\n",
    "}\n",
    "// Loop stops at 6, so it prints 0, 2, 4\n"
   ]
  },
  {
   "cell_type": "code",
   "execution_count": null,
   "metadata": {},
   "outputs": [],
   "source": [
    "%%js\n",
    "// Skips when i equals 5 and continues the loop\n",
    "for (let i = 0; i < 10; i++) {\n",
    "  if (i === 5) {\n",
    "    continue;  // Skips printing i when it's 5\n",
    "  }\n",
    "  console.log(i); \n",
    "}\n",
    "// Skips 5, prints 0, 1, 2, 3, 4, 6, 7, 8, 9\n"
   ]
  },
  {
   "cell_type": "code",
   "execution_count": null,
   "metadata": {},
   "outputs": [],
   "source": [
    "# Skips printing number 5, adds a custom message before each number\n",
    "for i in range(10):\n",
    "    if i == 5:\n",
    "        continue  # Skip when i is 5\n",
    "    print(f\"This number is: {i}\")\n",
    "# Output: Skips 5 and prints \"This number is: 0\" to \"This number is: 9\", skipping 5\n"
   ]
  },
  {
   "cell_type": "code",
   "execution_count": null,
   "metadata": {},
   "outputs": [],
   "source": [
    "# Skips printing number 5, adds a custom message before each number\n",
    "for i in range(10):\n",
    "    if i == 5:\n",
    "        continue  # Skip when i is 5\n",
    "    print(f\"This number is: {i}\")\n",
    "# Output: Skips 5 and prints \"This number is: 0\" to \"This number is: 9\", skipping 5\n"
   ]
  },
  {
   "cell_type": "code",
   "execution_count": null,
   "metadata": {},
   "outputs": [],
   "source": [
    "%%js\n",
    "// Breaks when i equals 8, counts by 2\n",
    "for (let i = 0; i < 10; i += 2) {\n",
    "    if (i === 8) {\n",
    "        break;\n",
    "    }\n",
    "    console.log(i);\n",
    "}\n",
    "// Loop prints 0, 2, 4, 6, and stops at 8\n"
   ]
  },
  {
   "cell_type": "code",
   "execution_count": null,
   "metadata": {},
   "outputs": [],
   "source": [
    "# Skips printing number 5, modifies the output to say \"This number is...\"\n",
    "for i in range(10):\n",
    "    if i == 5:\n",
    "        continue\n",
    "    print(f\"This number is: {i}\")\n",
    "# Output: Skips 5 and prints numbers from 0 to 9, adding \"This number is...\" before each\n"
   ]
  },
  {
   "cell_type": "code",
   "execution_count": null,
   "metadata": {},
   "outputs": [],
   "source": [
    "# Breaks when i equals 3\n",
    "for i in range(10): \n",
    "    if i == 3:\n",
    "        break  # Stops the loop when i is 3\n",
    "    print(i)\n",
    "    \n",
    "# Output: 0, 1, 2\n"
   ]
  },
  {
   "cell_type": "code",
   "execution_count": null,
   "metadata": {},
   "outputs": [],
   "source": [
    "# This loop doesn't break, so it prints numbers from 0 to 9\n",
    "for i in range(10): \n",
    "    if i == 40:\n",
    "        break\n",
    "    print(i)\n",
    "\n",
    "# Output: 0, 1, 2, 3, 4, 5, 6, 7, 8, 9\n"
   ]
  },
  {
   "cell_type": "code",
   "execution_count": null,
   "metadata": {
    "vscode": {
     "languageId": "javascript"
    }
   },
   "outputs": [],
   "source": [
    "%%javascript\n",
    "// Breaks when i equals 5\n",
    "for (let i = 0; i < 10; i++) {\n",
    "    if (i === 5) {\n",
    "        break;  // Stops the loop when i is 5\n",
    "    }\n",
    "    console.log(i);\n",
    "}\n",
    "// Output: 0, 1, 2, 3, 4\n"
   ]
  },
  {
   "cell_type": "code",
   "execution_count": null,
   "metadata": {
    "vscode": {
     "languageId": "javascript"
    }
   },
   "outputs": [],
   "source": [
    "%%javascript\n",
    "// Breaks when i equals 6, counts by 2\n",
    "for (let i = 0; i < 10; i += 2) {\n",
    "    if (i === 6) {\n",
    "        break;  // Stops the loop when i is 6\n",
    "    }\n",
    "    console.log(i);\n",
    "}\n",
    "// Output: 0, 2, 4\n"
   ]
  },
  {
   "cell_type": "code",
   "execution_count": null,
   "metadata": {
    "vscode": {
     "languageId": "javascript"
    }
   },
   "outputs": [],
   "source": [
    "%%javascript\n",
    "// Skips printing i when i equals 5 and continues the loop\n",
    "for (let i = 0; i < 10; i++) {\n",
    "  if (i === 5) {\n",
    "    continue;  // Skip the current iteration when i is 5\n",
    "  }\n",
    "  console.log(i); \n",
    "}\n",
    "// Output: 0, 1, 2, 3, 4, 6, 7, 8, 9\n"
   ]
  },
  {
   "cell_type": "code",
   "execution_count": null,
   "metadata": {},
   "outputs": [],
   "source": [
    "# Skips printing the number 5 and modifies the output message\n",
    "for i in range(10):\n",
    "    if i == 5:\n",
    "        continue  # Skip when i is 5\n",
    "    print(f\"This number is: {i}\")\n",
    "    \n",
    "# Output: Skips 5 and prints numbers from 0 to 9 with \"This number is...\" before each\n"
   ]
  },
  {
   "cell_type": "code",
   "execution_count": null,
   "metadata": {
    "vscode": {
     "languageId": "javascript"
    }
   },
   "outputs": [],
   "source": [
    "%%javascript\n",
    "// Break when i reaches 8, count by 2\n",
    "for (let i = 0; i < 10; i += 2) {\n",
    "    if (i === 8) {\n",
    "        break;  // Stops the loop when i is 8\n",
    "    }\n",
    "    console.log(i);\n",
    "}\n",
    "// Output: 0, 2, 4, 6\n"
   ]
  },
  {
   "cell_type": "code",
   "execution_count": null,
   "metadata": {},
   "outputs": [],
   "source": [
    "# Skips the number 5, adding a custom message before each number\n",
    "for i in range(10):\n",
    "    if i == 5:\n",
    "        continue\n",
    "    print(f\"This number is: {i}\")\n",
    "    \n",
    "# Output: Skips 5 and prints \"This number is: 0\" to \"This number is: 9\", skipping 5\n"
   ]
  }
 ],
 "metadata": {
  "kernelspec": {
   "display_name": "venv",
   "language": "python",
   "name": "python3"
  },
  "language_info": {
   "codemirror_mode": {
    "name": "ipython",
    "version": 3
   },
   "file_extension": ".py",
   "mimetype": "text/x-python",
   "name": "python",
   "nbconvert_exporter": "python",
   "pygments_lexer": "ipython3",
   "version": "3.12.3"
  }
 },
 "nbformat": 4,
 "nbformat_minor": 2
}
