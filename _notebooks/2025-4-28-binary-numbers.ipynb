{
 "cells": [
  {
   "cell_type": "code",
   "execution_count": null,
   "id": "7bb935c0",
   "metadata": {},
   "outputs": [],
   "source": [
    "---\n",
    "layout: post\n",
    "title: Binary Numbers\n",
    "description: Popcorn and homework hacks for binary numbers\n",
    "permalink: /binary_numbers/\n",
    "menu: nav/tools_setup.html\n",
    "toc: true\n",
    "comments: true \n",
    "---"
   ]
  },
  {
   "cell_type": "markdown",
   "id": "dc426e44",
   "metadata": {},
   "source": [
    "**Popcorn Hack 1**"
   ]
  },
  {
   "cell_type": "code",
   "execution_count": 1,
   "id": "1364b5de",
   "metadata": {},
   "outputs": [
    {
     "name": "stdout",
     "output_type": "stream",
     "text": [
      "The decimal representation of 3 is 3.\n"
     ]
    }
   ],
   "source": [
    "def binary_to_decimal(binary_str):\n",
    "    decimal = 0\n",
    "    # Loop through each digit in the binary number (starting from the right)\n",
    "    for i in range(len(binary_str)):\n",
    "        # Take the digit, convert to integer, and multiply by 2 raised to its position\n",
    "        decimal += int(binary_str[-(i + 1)]) * (2 ** i)\n",
    "    return decimal\n",
    "\n",
    "# Ask the user to enter a binary number\n",
    "binary_input = input(\"Enter a binary number: \")\n",
    "\n",
    "# Call the function to convert and store the result\n",
    "decimal_output = binary_to_decimal(binary_input)\n",
    "\n",
    "# Print the result\n",
    "print(f\"The decimal representation of {binary_input} is {decimal_output}.\")\n"
   ]
  },
  {
   "cell_type": "markdown",
   "id": "ee1515d5",
   "metadata": {},
   "source": [
    "**Popcorn Hack 2**\n",
    "\n"
   ]
  },
  {
   "cell_type": "code",
   "execution_count": 2,
   "id": "2f0f496a",
   "metadata": {},
   "outputs": [
    {
     "name": "stdout",
     "output_type": "stream",
     "text": [
      "Add these binary numbers together:\n",
      "Number 1: 1000100\n",
      "Number 2: 1000101\n",
      "❌ Oops! The right answer was: 10001001\n",
      "🛑 You lose 5 points.\n"
     ]
    }
   ],
   "source": [
    "import random\n",
    "import time\n",
    "\n",
    "def binary_addition_battle():\n",
    "    # Pick two random numbers between 0 and 255, and turn them into binary\n",
    "    num1 = bin(random.randint(0, 255))[2:]  # [2:] removes the '0b' part\n",
    "    num2 = bin(random.randint(0, 255))[2:]\n",
    "\n",
    "    # Show the numbers to the player\n",
    "    print(\"Add these binary numbers together:\")\n",
    "    print(f\"Number 1: {num1}\")\n",
    "    print(f\"Number 2: {num2}\")\n",
    "\n",
    "    # Start the timer\n",
    "    start_time = time.time()\n",
    "\n",
    "    # Ask user for their answer\n",
    "    user_answer = input(\"Your answer (in binary): \")\n",
    "\n",
    "    # Stop the timer\n",
    "    end_time = time.time()\n",
    "\n",
    "    # Find the correct answer\n",
    "    correct_answer = bin(int(num1, 2) + int(num2, 2))[2:]\n",
    "\n",
    "    # Check if user was right\n",
    "    if user_answer == correct_answer:\n",
    "        print(f\"✅ Correct! You took {end_time - start_time:.2f} seconds.\")\n",
    "        print(\"🏆 You earn +10 points!\")\n",
    "    else:\n",
    "        print(f\"❌ Oops! The right answer was: {correct_answer}\")\n",
    "        print(\"🛑 You lose 5 points.\")\n",
    "\n",
    "# Run the game\n",
    "binary_addition_battle()\n"
   ]
  },
  {
   "cell_type": "markdown",
   "id": "9ed47a98",
   "metadata": {},
   "source": [
    "**Popcorn Hack 3**\n",
    "AP MC QUESTIONS:\n",
    "Question 28:\n",
    "\n",
    "A text-editing application uses binary sequences to represent each of 200 different characters. What is the minimum number of bits needed to assign a unique bit sequence to each of the possible characters?\n",
    "\n",
    "A) 4\n",
    "B) 6\n",
    "C) 7\n",
    "**D) 8**\n",
    "Question 36:\n",
    "\n",
    "A computer program performs the operation 2 divided by 3 and represents the result as the value 0.6666666667. Which of the following best explains this result?\n",
    "\n",
    "A) An overflow error occurred.\n",
    "**B) The precision of the result is limited due to the constraints of using a floating-point representation.**\n",
    "C) The program attempted to execute the operation with the arguments in reverse order.\n",
    "D) The program attempted to represent a floating-point number as an integer.\n",
    "Question 42:\n",
    "\n",
    "Internet protocol version 4 (IPv4) represents each IP address as a 32-bit binary number. Internet protocol version 6 (IPv6) represents each IP address as a 128-bit binary number.\n",
    "Which of the following best describes the result of using 128-bit addresses instead of 32-bit addresses?\n",
    "\n",
    "A) 4 times as many addresses are available.\n",
    "B) 96 times as many addresses are available.\n",
    "C) 2 to the fourth power times as many addresses are available.\n",
    "**D) 2 raised to the ninety-sixth power times as many addresses are available.**\n",
    "Question 44:\n",
    "\n",
    "A computer program uses 4 bits to represent nonnegative integers. Which of the following statements describe a possible result when the program uses this number representation?\n",
    "\n",
    "I. The operation 4 plus 8 will result in an overflow error.\n",
    "II. The operation 7 plus 10 will result in an overflow error.\n",
    "III. The operation 12 plus 3 will result in an overflow error.\n",
    "\n",
    "A) I only\n",
    "B) II only\n",
    "C) II and III only\n",
    "**D) I, II, and III**\n"
   ]
  },
  {
   "cell_type": "markdown",
   "id": "c9342399",
   "metadata": {},
   "source": [
    "**Homework Hack 1**"
   ]
  },
  {
   "cell_type": "markdown",
   "id": "5ead1418",
   "metadata": {},
   "source": [
    "HW HACK\n",
    "import random\n",
    "import time\n",
    "\n",
    "def binary_addition(a, b):\n",
    "    return bin(int(a, 2) + int(b, 2))[2:]\n",
    "\n",
    "def binary_subtraction(a, b):\n",
    "    if int(a, 2) < int(b, 2):\n",
    "        return \"Error\"\n",
    "    return bin(int(a, 2) - int(b, 2))[2:]\n",
    "\n",
    "def decimal_to_binary(n):\n",
    "    return bin(n)[2:]\n",
    "\n",
    "def binary_to_decimal(b):\n",
    "    return int(b, 2)\n",
    "\n",
    "def binary_battle_royale():\n",
    "    print(\"👾 Welcome to Binary Battle Royale! 👾\")\n",
    "    score = 0\n",
    "    total_rounds = 3\n",
    "\n",
    "    for round_num in range(1, total_rounds + 1):\n",
    "        print(f\"\\n⚡ Round {round_num} ⚡\")\n",
    "        mode = random.choice([\"addition\", \"subtraction\", \"dec_to_bin\", \"bin_to_dec\"])\n",
    "\n",
    "        if mode == \"addition\":\n",
    "            num1 = bin(random.randint(0, 15))[2:]\n",
    "            num2 = bin(random.randint(0, 15))[2:]\n",
    "            print(f\"Add these two binary numbers: {num1} + {num2}\")\n",
    "            user_answer = input(\"Your answer (binary): \").strip()\n",
    "            correct_answer = binary_addition(num1, num2)\n",
    "            if user_answer == correct_answer:\n",
    "                print(\"✅ Correct!\")\n",
    "                score += 1\n",
    "            else:\n",
    "                print(f\"❌ Incorrect. The correct answer was {correct_answer}.\")\n",
    "\n",
    "        elif mode == \"subtraction\":\n",
    "            num1_val = random.randint(8, 31)\n",
    "            num2_val = random.randint(0, num1_val)\n",
    "            num1 = bin(num1_val)[2:]\n",
    "            num2 = bin(num2_val)[2:]\n",
    "            print(f\"Subtract these two binary numbers: {num1} - {num2}\")\n",
    "            user_answer = input(\"Your answer (binary): \").strip()\n",
    "            correct_answer = binary_subtraction(num1, num2)\n",
    "            if user_answer == correct_answer:\n",
    "                print(\"✅ Correct!\")\n",
    "                score += 1\n",
    "            else:\n",
    "                print(f\"❌ Incorrect. The correct answer was {correct_answer}.\")\n",
    "\n",
    "        elif mode == \"dec_to_bin\":\n",
    "            decimal_number = random.randint(0, 31)\n",
    "            print(f\"Convert this decimal number to binary: {decimal_number}\")\n",
    "            user_answer = input(\"Your answer (binary): \").strip()\n",
    "            correct_answer = decimal_to_binary(decimal_number)\n",
    "            if user_answer == correct_answer:\n",
    "                print(\"✅ Correct!\")\n",
    "                score += 1\n",
    "            else:\n",
    "                print(f\"❌ Incorrect. The correct answer was {correct_answer}.\")\n",
    "\n",
    "        elif mode == \"bin_to_dec\":\n",
    "            binary_number = bin(random.randint(0, 31))[2:]\n",
    "            print(f\"Convert this binary number to decimal: {binary_number}\")\n",
    "            user_answer = input(\"Your answer (decimal): \").strip()\n",
    "            correct_answer = str(binary_to_decimal(binary_number))\n",
    "            if user_answer == correct_answer:\n",
    "                print(\"✅ Correct!\")\n",
    "                score += 1\n",
    "            else:\n",
    "                print(f\"❌ Incorrect. The correct answer was {correct_answer}.\")\n",
    "\n",
    "    print(\"\\n🏆 Game Over! 🏆\")\n",
    "    print(f\"Your final score: {score}/{total_rounds}\")\n",
    "    if score == total_rounds:\n",
    "        print(\"🌟 Amazing job! You're a Binary Master!\")\n",
    "    elif score >= total_rounds // 2:\n",
    "        print(\"👍 Good effort! Keep practicing!\")\n",
    "    else:\n",
    "        print(\"💡 Don't worry — review the rules and try again!\")\n",
    "\n",
    " --- Start the game ---\n",
    "binary_battle_royale()\n",
    "Explain in 1-2 sentences how to convert a binary number into a decimal number.\n",
    "\n",
    "If you are given the binary number 11111111, what decimal number is that?"
   ]
  },
  {
   "cell_type": "markdown",
   "id": "97e1dc58",
   "metadata": {},
   "source": [
    "1) To convert a binary number into a decimal number, you add up the values of each \"1\" based on its place value (powers of \n",
    "\n",
    "2) The decimal value of 11111111 is 255.\n"
   ]
  }
 ],
 "metadata": {
  "kernelspec": {
   "display_name": "venv",
   "language": "python",
   "name": "python3"
  },
  "language_info": {
   "codemirror_mode": {
    "name": "ipython",
    "version": 3
   },
   "file_extension": ".py",
   "mimetype": "text/x-python",
   "name": "python",
   "nbconvert_exporter": "python",
   "pygments_lexer": "ipython3",
   "version": "3.12.3"
  }
 },
 "nbformat": 4,
 "nbformat_minor": 5
}
