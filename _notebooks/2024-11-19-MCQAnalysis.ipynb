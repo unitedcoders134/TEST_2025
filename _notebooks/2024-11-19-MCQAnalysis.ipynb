{
 "cells": [
  {
   "cell_type": "raw",
   "metadata": {
    "vscode": {
     "languageId": "raw"
    }
   },
   "source": [
    "---\n",
    "toc: false\n",
    "layout: post\n",
    "type: tangibles\n",
    "courses: { compsci: {week: 1} }\n",
    "title: Mihir's MCQ Analysis\n",
    "permalink: /MCQAnalysis\n",
    "description: MY review of what I've learned from the 66 MCQ Problems and Sprint 3\n",
    "comments: true\n",
    "---"
   ]
  },
  {
   "cell_type": "markdown",
   "metadata": {},
   "source": [
    "**Sprint 3**\n",
    "\n",
    "\n",
    "The third sprint took me deeper into backend development, where I learned how the server side of applications functions. I gained experience with databases, setting up backend routes, and understanding how frontends and backends interact. This sprint also strengthened my collaboration skills, as we tackled more complex tasks that required frequent team discussions and collective problem-solving.\n",
    "\n",
    "**My Biggest Accomplishment in Sprint 3**\n",
    "\n",
    "My Biggest Accomplishment in Sprint 3 was setting up the backend and integrating it into our website. Not only did we set up a working backend, but I had to make a lot of frontend changes as well in order to stor responses and chats properly.\n",
    "\n",
    "Proof of work: https://github.com/mihirthaha/mihir_2025/issues/12\n",
    "\n",
    "\n",
    "\n",
    "\n",
    "** MCQ Corrections**\n",
    "\n",
    "Looking at the table, it’s clear I struggled with a few specific areas. For example, my performance in “Developing Procedures” was only 40%, which shows I need to work on understanding and applying those concepts better. Similarly, I didn’t do as well as I’d like in “Binary Search” and “Libraries,” both at 50%. These topics seem to be where I’m having the most difficulty, so I’ll need to spend more time reviewing them and practicing with examples. On the other hand, I did really well in areas like “Iteration” and “Algorithmic Efficiency,” which shows I have a strong foundation there. I’ll focus on improving my weaker areas while building on the topics I already understand.\n",
    "\n",
    "Proof and Corrections: https://github.com/mihirthaha/mihir_2025/issues/11\n",
    "\n"
   ]
  }
 ],
 "metadata": {
  "language_info": {
   "name": "python"
  }
 },
 "nbformat": 4,
 "nbformat_minor": 2
}
