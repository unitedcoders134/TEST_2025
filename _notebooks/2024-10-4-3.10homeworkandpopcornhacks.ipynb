{
 "cells": [
  {
   "cell_type": "raw",
   "metadata": {
    "vscode": {
     "languageId": "raw"
    }
   },
   "source": [
    "---\n",
    "layout: post\n",
    "title: 3.10 Homework and Popcorn Hacks  \n",
    "description:  Homework and Popcorn Hacks \n",
    "courses: { csp: {week 1} } \n",
    "comments: true\n",
    "sticky_rank: 1\n",
    "---"
   ]
  },
  {
   "cell_type": "markdown",
   "metadata": {},
   "source": [
    "<h1>Homework and Popcorn Hacks for 3.10<h1>"
   ]
  },
  {
   "cell_type": "markdown",
   "metadata": {},
   "source": [
    "<h1>Homework Hack 3.10.1<h1>"
   ]
  },
  {
   "cell_type": "code",
   "execution_count": 9,
   "metadata": {},
   "outputs": [
    {
     "name": "stdout",
     "output_type": "stream",
     "text": [
      "Initial list: [10, 'Hello', 3.14, True, 'World', [1, 2, 3], None]\n",
      "Removed item: World\n",
      "Updated list: [10, 'Hello', 3.14, True, [1, 2, 3], None]\n"
     ]
    }
   ],
   "source": [
    "# Python script to remove an item from a list based on user input\n",
    "\n",
    "# Starting list with various data types\n",
    "data_list = [10, \"Hello\", 3.14, True, \"World\", [1, 2, 3], None]\n",
    "\n",
    "# Display the initial list\n",
    "print(\"Initial list:\", data_list)\n",
    "\n",
    "# Prompt the user to input an index number\n",
    "try:\n",
    "    index = int(input(\"Enter an index number to remove the item (0 to {}): \".format(len(data_list) - 1)))\n",
    "\n",
    "    # Check if the index is valid\n",
    "    if 0 <= index < len(data_list):\n",
    "        # Remove the item at the specified index\n",
    "        removed_item = data_list.pop(index)\n",
    "        print(f\"Removed item: {removed_item}\")\n",
    "    else:\n",
    "        print(\"Error: Index out of range.\")\n",
    "except ValueError:\n",
    "    print(\"Error: Please enter a valid integer.\")\n",
    "    \n",
    "# Display the updated list\n",
    "print(\"Updated list:\", data_list)\n"
   ]
  },
  {
   "cell_type": "markdown",
   "metadata": {},
   "source": [
    "<h2>Homework 3.10.2<h2>"
   ]
  },
  {
   "cell_type": "markdown",
   "metadata": {},
   "source": [
    "1. Initialize an empty list called numbers\n",
    "2. For i from 1 to 30:\n",
    "    a. Append i to the numbers list\n",
    "3. Initialize even_sum to 0\n",
    "4. Initialize odd_sum to 0\n",
    "5. For each number in numbers:\n",
    "    a. If number is even:\n",
    "        i. Add number to even_sum\n",
    "    b. Else:\n",
    "        i. Add number to odd_sum\n",
    "6. Print \"Sum of even numbers: \" + even_sum\n",
    "7. Print \"Sum of odd numbers: \" + odd_sum\n"
   ]
  },
  {
   "cell_type": "code",
   "execution_count": 8,
   "metadata": {},
   "outputs": [
    {
     "name": "stdout",
     "output_type": "stream",
     "text": [
      "Sum of even numbers: 240\n",
      "Sum of odd numbers: 225\n"
     ]
    }
   ],
   "source": [
    "# Initialize a list of numbers from 1 to 30\n",
    "numbers = [i for i in range(1, 31)]\n",
    "\n",
    "# Initialize sums for even and odd numbers\n",
    "even_sum = 0\n",
    "odd_sum = 0\n",
    "\n",
    "# Calculate the sums of even and odd numbers\n",
    "for number in numbers:\n",
    "    if number % 2 == 0:  # Check if the number is even\n",
    "        even_sum += number\n",
    "    else:  # The number is odd\n",
    "        odd_sum += number\n",
    "\n",
    "# Print the results\n",
    "print(\"Sum of even numbers:\", even_sum)\n",
    "print(\"Sum of odd numbers:\", odd_sum)\n"
   ]
  },
  {
   "cell_type": "markdown",
   "metadata": {},
   "source": [
    "<h2>3.10.3 Homework Hack<h1>"
   ]
  },
  {
   "cell_type": "code",
   "execution_count": 1,
   "metadata": {},
   "outputs": [
    {
     "name": "stdout",
     "output_type": "stream",
     "text": [
      "One of my favorite hobbies is: Playing Piano\n",
      "One of my favorite hobbies is: Playing Badminton\n",
      "One of my favorite hobbies is: Coding\n",
      "One of my favorite hobbies is: Chemistry\n",
      "One of my favorite hobbies is: Playing BlockBlash\n"
     ]
    }
   ],
   "source": [
    "# List of favorite hobbies\n",
    "favorite_hobbies = [\"Playing Piano\", \"Playing Badminton\", \"Coding\", \"Chemistry\", \"Playing BlockBlash\"]\n",
    "\n",
    "# Loop through each hobby and print it\n",
    "for hobby in favorite_hobbies:\n",
    "    print(\"One of my favorite hobbies is:\", hobby)\n"
   ]
  },
  {
   "cell_type": "markdown",
   "metadata": {},
   "source": [
    "<h2>3.10.4 Homework Hacks<h2>"
   ]
  },
  {
   "cell_type": "markdown",
   "metadata": {},
   "source": [
    "Pseudocode\n",
    "Create a list called questions.\n",
    "Add two tuples or lists to questions where each contains a question and a yes or no answer."
   ]
  },
  {
   "cell_type": "code",
   "execution_count": 2,
   "metadata": {},
   "outputs": [
    {
     "name": "stdout",
     "output_type": "stream",
     "text": [
      "Question: Do I deserve a 100 on this project 😏 - Answer: Yes\n",
      "Question: Can fish fly? - Answer: No\n"
     ]
    }
   ],
   "source": [
    "# Create a list of questions with corresponding yes or no answers\n",
    "questions = [\n",
    "    (\"Do I deserve a 100 on this project 😏\", \"Yes\"),\n",
    "    (\"Can fish fly?\", \"No\")\n",
    "]\n",
    "\n",
    "# Loop through each question and print it with its answer\n",
    "for question, answer in questions:\n",
    "    print(f\"Question: {question} - Answer: {answer}\")\n"
   ]
  },
  {
   "cell_type": "markdown",
   "metadata": {},
   "source": [
    "<h1>Popcorn Hacks for 3.10<h1>"
   ]
  },
  {
   "cell_type": "code",
   "execution_count": 5,
   "metadata": {},
   "outputs": [
    {
     "name": "stdout",
     "output_type": "stream",
     "text": [
      "Adding Numbers In List Script\n",
      "-------------------------\n",
      "Added 4 to list.\n",
      "Sum of numbers in list is 4\n",
      "Invalid option. Please choose again.\n",
      "Sum of numbers in list is 4\n",
      "Invalid option. Please choose again.\n"
     ]
    }
   ],
   "source": [
    "print(\"Adding Numbers In List Script\")\n",
    "print(\"-\" * 25)\n",
    "\n",
    "numlist = []  # Initialize an empty list to store numbers\n",
    "\n",
    "while True:\n",
    "    start = input(\"Would you like to (1) enter numbers (2) add numbers (3) remove last value added or (4) exit: \")\n",
    "    \n",
    "    if start == \"1\":\n",
    "        val = input(\"Enter a numeric value: \")  # Take input while storing it in a variable\n",
    "        try: \n",
    "            test = int(val)  # Testing to see if input is an integer (numeric)\n",
    "        except ValueError:  # Catch specific ValueError for invalid conversion\n",
    "            print(\"Please enter a valid number\")\n",
    "            continue  # Skip to the next iteration of the while loop\n",
    "        numlist.append(int(val))  # Append method to add values\n",
    "        print(\"Added \" + val + \" to list.\")\n",
    "    /home/mihirthaha/nighthawk/TEST_2025/_notebooks/Foundation\n",
    "    elif start == \"2\":\n",
    "        total_sum = 0  # Initialize sum variable\n",
    "        for num in numlist:  # Loop through list and add all values to total_sum variable\n",
    "            total_sum += num\n",
    "        print(\"Sum of numbers in list is \" + str(total_sum))\n",
    "    \n",
    "    elif start == \"3\":\n",
    "        if len(numlist) > 0:  # Make sure there are values in the list to remove\n",
    "            print(\"Removed \" + str(numlist[-1]) + \" from list.\")  # Use -1 to get the last element\n",
    "            numlist.pop()  # Remove the last element from the list\n",
    "        else:\n",
    "            print(\"No values to delete\")\n",
    "    \n",
    "    elif start == \"4\":\n",
    "        break  # Break out of the while loop to exit\n",
    "    \n",
    "    else:\n",
    "        print(\"Invalid option. Please choose again.\")\n"
   ]
  },
  {
   "cell_type": "markdown",
   "metadata": {},
   "source": [
    "1. Initialize an empty list called numbers\n",
    "2. For i from 1 to 100:\n",
    "    a. Append i to the numbers list\n",
    "3. Initialize a variable called even_sum to 0\n",
    "4. For each number in numbers:\n",
    "    a. If number is even:\n",
    "        i. Add number to even_sum\n",
    "5. Print \"Sum of even numbers: \" + even_sum\n"
   ]
  },
  {
   "cell_type": "code",
   "execution_count": 4,
   "metadata": {},
   "outputs": [
    {
     "name": "stdout",
     "output_type": "stream",
     "text": [
      "Sum of even numbers: 2550\n"
     ]
    }
   ],
   "source": [
    "# Initialize a list of numbers from 1 to 100\n",
    "numbers = [i for i in range(1, 101)]\n",
    "\n",
    "# Initialize a variable to hold the sum of even numbers\n",
    "even_sum = 0\n",
    "\n",
    "# Calculate the sum of even numbers\n",
    "for number in numbers:\n",
    "    if number % 2 == 0:  # Check if the number is even\n",
    "        even_sum += number  # Add the even number to the sum\n",
    "\n",
    "# Print the result\n",
    "print(\"Sum of even numbers:\", even_sum)\n"
   ]
  },
  {
   "cell_type": "code",
   "execution_count": 4,
   "metadata": {},
   "outputs": [
    {
     "name": "stdout",
     "output_type": "stream",
     "text": [
      "Welcome to the Outfit Suggestion Generator!\n",
      "Please enter your clothes  one by one.\n",
      "Type 'done' when you are finished entering meals.\n",
      "Added 'black t' to your meal list.\n",
      "Added 'white pant' to your meal list.\n",
      "\n",
      "Your random outfit suggestion is: white pant\n"
     ]
    }
   ],
   "source": [
    "import random  # Import the random module to use for selecting an outfit\n",
    "\n",
    "def outfitgenerator():\n",
    "    # Create an empty list to store outfit suggestions\n",
    "    outfit = []\n",
    "\n",
    "    print(\"Welcome to the Outfit Suggestion Generator!\")\n",
    "    print(\"Please enter your clothes  one by one.\")\n",
    "    print(\"Type 'done' when you are finished entering meals.\")\n",
    "\n",
    "    while True:\n",
    "        food1 = input(\"Enter a shirt or pant suggestion (or type 'done' to finish): \")\n",
    "        \n",
    "        if food1.lower() == 'done':  # Check if the user wants to finish input\n",
    "            break  # Exit the loop if user types 'done'\n",
    "        \n",
    "        outfit.append(food1)  # Append the meal suggestion to the list\n",
    "        print(f\"Added '{food1}' to your meal list.\")\n",
    "\n",
    "    if outfit:  # Check if the list is not empty\n",
    "        # Suggest a random cloth from the list\n",
    "        random_meal = random.choice(outfit)\n",
    "        print(f\"\\nYour random outfit suggestion is: {random_meal}\")\n",
    "    else:\n",
    "        print(\"You didn't add any clothes to the list.\")\n",
    "\n",
    "# Run the meal suggestion generator function\n",
    "outfitgenerator()\n"
   ]
  }
 ],
 "metadata": {
  "kernelspec": {
   "display_name": "venv",
   "language": "python",
   "name": "python3"
  },
  "language_info": {
   "codemirror_mode": {
    "name": "ipython",
    "version": 3
   },
   "file_extension": ".py",
   "mimetype": "text/x-python",
   "name": "python",
   "nbconvert_exporter": "python",
   "pygments_lexer": "ipython3",
   "version": "3.12.3"
  }
 },
 "nbformat": 4,
 "nbformat_minor": 2
}
