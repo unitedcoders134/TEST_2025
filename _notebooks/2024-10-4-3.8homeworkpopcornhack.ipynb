{
 "cells": [
  {
   "cell_type": "raw",
   "metadata": {
    "vscode": {
     "languageId": "raw"
    }
   },
   "source": [
    "---\n",
    "layout: post\n",
    "title: 3.8 Homework and Popcorn Hacks  \n",
    "description:  Homework and Popcorn Hacks \n",
    "courses: { csp: {week 1} } \n",
    "comments: true\n",
    "sticky_rank: 1\n",
    "---"
   ]
  },
  {
   "cell_type": "markdown",
   "metadata": {},
   "source": [
    "<h1>Homework and Popcorn Hacks for 3.8<h1>"
   ]
  },
  {
   "cell_type": "markdown",
   "metadata": {},
   "source": [
    "<h2>3.8.1 Popcorn Hack <h2>"
   ]
  },
  {
   "cell_type": "markdown",
   "metadata": {
    "vscode": {
     "languageId": "javascript"
    }
   },
   "source": [
    "```javascript\n",
    "for (let i = 0; i < 5; i++) {\n",
    "    console.log(i);\n",
    "}\n",
    "```"
   ]
  },
  {
   "cell_type": "markdown",
   "metadata": {},
   "source": [
    "<h1>Popcorn Hack 2<h1>"
   ]
  },
  {
   "cell_type": "markdown",
   "metadata": {
    "vscode": {
     "languageId": "javascript"
    }
   },
   "source": [
    "```javascript\n",
    "fruits = ['pineapples', 'redapples', 'watermelons', 'bananas']\n",
    "\n",
    "for fruit in fruits:\n",
    "    print(fruit)\n",
    "```"
   ]
  },
  {
   "cell_type": "markdown",
   "metadata": {},
   "source": [
    "<Homework>"
   ]
  },
  {
   "cell_type": "markdown",
   "metadata": {
    "vscode": {
     "languageId": "javascript"
    }
   },
   "source": [
    "```javascript\n",
    "person = {'name': 'Mihir', 'age': 15}\n",
    "\n",
    "# Looping through keys\n",
    "for key in person:\n",
    "    print(key, person[key])\n",
    "\n",
    "# Looping through values\n",
    "for value in person.values():\n",
    "    print(value)\n",
    "\n",
    "# Looping through keys and values\n",
    "for key, value in person.items():\n",
    "    print(key, value)\n",
    "```"
   ]
  },
  {
   "cell_type": "markdown",
   "metadata": {
    "vscode": {
     "languageId": "raw"
    }
   },
   "source": [
    "<h2>Advanced While and do-while Loop practice 3.8.2<h2>"
   ]
  },
  {
   "cell_type": "markdown",
   "metadata": {
    "vscode": {
     "languageId": "javascript"
    }
   },
   "source": [
    "```javascript\n",
    "%%javascript\n",
    "\n",
    "let i = 50; // Starting range\n",
    "\n",
    "while (i <= 100) { // Loop from 50 to 100\n",
    "    if (i % 4 === 0 && i % 5 === 0) {\n",
    "        console.log(\"FizzBuzz\"); // Multiples of both 4 and 5\n",
    "    } else if (i % 4 === 0) {\n",
    "        console.log(\"Fizz\"); // Multiples of 4 (Challenge condition)\n",
    "    } else if (i % 5 === 0) {\n",
    "        console.log(\"Buzz\"); // Multiples of 5\n",
    "    } else if (i % 7 === 0) {\n",
    "        console.log(\"Boom\"); // Twist for multiples of 7\n",
    "    } else {\n",
    "        console.log(i); // Print the number if no condition is met\n",
    "    }\n",
    "    i++;\n",
    "}\n",
    "```"
   ]
  },
  {
   "cell_type": "markdown",
   "metadata": {
    "vscode": {
     "languageId": "javascript"
    }
   },
   "source": [
    "```javascript\n",
    "%%javascript\n",
    "\n",
    "let correctUsername = \"user\";\n",
    "let correctPassword = \"password\";\n",
    "let attempts = 3;\n",
    "let success = false;\n",
    "let username, password;\n",
    "\n",
    "do {\n",
    "    // Prompt for username and password\n",
    "    username = prompt(\"Enter username:\");\n",
    "    password = prompt(\"Enter password:\");\n",
    "\n",
    "    if (username === correctUsername && password === correctPassword) {\n",
    "        console.log(\"Login successful!\");\n",
    "        success = true;\n",
    "        break;\n",
    "    } else {\n",
    "        attempts--;\n",
    "        if (attempts > 0) {\n",
    "            console.log(\"Incorrect credentials. You have \" + attempts + \" attempts left.\");\n",
    "        }\n",
    "    }\n",
    "} while (attempts > 0 && !success);\n",
    "\n",
    "if (!success) {\n",
    "    console.log(\"Account locked.\");\n",
    "    \n",
    "    // Challenge: Adding reset functionality\n",
    "    let securityAnswer = prompt(\"Answer the security question to reset your password.\\nWhat is your favorite color?\");\n",
    "\n",
    "    if (securityAnswer.toLowerCase() === \"blue\") { // Example security answer\n",
    "        let newPassword = prompt(\"Reset successful. Set your new password:\");\n",
    "        correctPassword = newPassword;\n",
    "        console.log(\"Password reset successful! Try logging in again.\");\n",
    "    } else {\n",
    "        console.log(\"Security question failed. Account remains locked.\");\n",
    "    }\n",
    "}\n",
    "```"
   ]
  },
  {
   "cell_type": "markdown",
   "metadata": {},
   "source": [
    "<h2>Popcorn and Homework Hacks from 3.8.4<h2>"
   ]
  },
  {
   "cell_type": "markdown",
   "metadata": {},
   "source": [
    "```python\n",
    "# Popcorn Hack #2: Continue Loop in Python\n",
    "\n",
    "for i in range(1, 11):  # Loop through numbers 1 to 10\n",
    "    if i % 2 == 0:      # Check if the number is even\n",
    "        continue        # Skip the rest of the loop for even numbers\n",
    "    print(i)            # Print odd numbers\n",
    "````"
   ]
  },
  {
   "cell_type": "markdown",
   "metadata": {},
   "source": [
    "```python\n",
    "let f = 0;\n",
    "\n",
    "while (true) {\n",
    "    console.log(f);\n",
    "    i += 2; // Increment by 2 each time\n",
    "    if (i > 10) { // Break when i is greater than 10\n",
    "        break;\n",
    "    }\n",
    "}\n",
    "```"
   ]
  },
  {
   "cell_type": "markdown",
   "metadata": {},
   "source": [
    "```python\n",
    "# Continue loop in Python with custom print statement\n",
    "for i in range(1, 11):  # Loop through numbers 1 to 10\n",
    "    if i % 2 == 0:      # Skip even numbers\n",
    "        continue\n",
    "    print(f\"The number is {i}\")  # Custom print message for odd numbers\n",
    "```"
   ]
  }
 ],
 "metadata": {
  "kernelspec": {
   "display_name": "venv",
   "language": "python",
   "name": "python3"
  },
  "language_info": {
   "codemirror_mode": {
    "name": "ipython",
    "version": 3
   },
   "file_extension": ".py",
   "mimetype": "text/x-python",
   "name": "python",
   "nbconvert_exporter": "python",
   "pygments_lexer": "ipython3",
   "version": "3.12.3"
  }
 },
 "nbformat": 4,
 "nbformat_minor": 2
}
