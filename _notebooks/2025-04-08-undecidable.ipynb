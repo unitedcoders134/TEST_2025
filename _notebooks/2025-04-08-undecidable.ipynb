{
 "cells": [
  {
   "cell_type": "code",
   "execution_count": null,
   "metadata": {},
   "outputs": [],
   "source": [
    "---\n",
    "layout: post\n",
    "title:  Lists\n",
    "description:  Lists and Sorting Algorythms\n",
    "permalink: /undecidable/\n",
    "courses: { csp: {week 1} } \n",
    "comments: true\n",
    "sticky_rank: 1\n",
    "---"
   ]
  },
  {
   "cell_type": "markdown",
   "metadata": {},
   "source": [
    "## Popcorn Hack #1"
   ]
  },
  {
   "cell_type": "markdown",
   "metadata": {},
   "source": [
    "False - because it's a contradiction. "
   ]
  },
  {
   "cell_type": "markdown",
   "metadata": {},
   "source": [
    "## Popcorn Hack #2"
   ]
  },
  {
   "cell_type": "markdown",
   "metadata": {},
   "source": [
    "True"
   ]
  },
  {
   "cell_type": "markdown",
   "metadata": {},
   "source": [
    "## Popcorn Hack #3\n",
    "\n",
    "\n",
    "x "
   ]
  },
  {
   "cell_type": "markdown",
   "metadata": {},
   "source": []
  },
  {
   "cell_type": "markdown",
   "metadata": {},
   "source": [
    "🔢 List Creation Basics – Python lists can be created using the list() constructor or, more commonly, with square brackets. They can be initialized with or without values.\n",
    "\n",
    "➕ Appending Values – You can add items using the .append() method, which always adds to the end, maintaining the order of insertion.\n",
    "\n",
    "📍 Indexing and Access – Elements are accessed using zero-based indexing. Negative indices access elements from the end (-1 is the last item).\n",
    "\n",
    "✂️ Slicing Technique – Lists can be sliced using [start:stop]. The start is inclusive and the stop is exclusive, enabling retrieval of sublists.\n",
    "\n",
    "🌀 Mixed Data Types – Unlike many other languages, Python lists can store multiple types: integers, strings, booleans, floats, and even other lists.\n",
    "\n",
    "♻️ Duplicates Allowed – Lists allow duplicate values, which distinguishes them from sets where duplicates are not allowed.\n",
    "\n",
    "🔗 Concatenation & Utilities – Lists can be combined using the + operator. Methods like dir() and help() can explore more list functionalities."
   ]
  },
  {
   "cell_type": "markdown",
   "metadata": {},
   "source": [
    "Video 2 notes:\n",
    "\n",
    "🔁 From For Loops to Comprehensions – List comprehensions offer a cleaner and more concise way to create lists than traditional for loops, improving both readability and brevity.\n",
    "\n",
    "🔍 Simple to Advanced Transformations – Basic transformations like copying a list or squaring numbers are simplified using syntax like [n*n for n in nums].\n",
    "\n",
    "❓ Conditional Comprehensions – You can filter elements with conditions inside comprehensions, e.g., [n for n in nums if n % 2 == 0] to get even numbers.\n",
    "\n",
    "🔄 Replacing Map/Filter Functions – List comprehensions replace less readable constructs like map() and filter() combined with lambda, providing clarity to newer developers.\n",
    "\n",
    "🧱 Nested Comprehensions – Comprehensions can handle nested loops, such as generating coordinate-like tuples with [ (letter, num) for letter in 'ABCD' for num in range(4) ].\n",
    "\n",
    "📚 Beyond Lists: Dictionaries and Sets – Python also supports dictionary and set comprehensions using {} syntax, like {name: hero for name, hero in zip(names, heroes)} or {n for n in nums} for unique items.\n",
    "\n",
    "⚙️ Generator Expressions – Similar in syntax to list comprehensions but using (), these lazily evaluate values, providing memory efficiency when iterating large datasets.\n",
    "\n",
    "Insights Based on Numbers\n",
    "List of 1-10 is reused across examples to show square values, even filters, and tuple combinations.\n",
    "\n",
    "Nested loops like four numbers per four letters yield 16 pairings, demonstrating the compact power of nested comprehensions.\n",
    "\n",
    "Example Exploratory Questions\n",
    "How do comprehensions enhance code readability and reduce redundancy in Python? (Enter E1 to ask)\n",
    "\n",
    "When should you prefer generator expressions over list comprehensions in performance-critical scenarios? (Enter E2 to ask)\n",
    "\n",
    "How do nested comprehensions compare to nested loops in terms of complexity and clarity? (Enter E3 to ask)\n",
    "\n",
    "Commands\n",
    "[L] Expand summary\n",
    "\n",
    "[A] Write an educational article\n",
    "\n",
    "[D] Create conclusion diagram\n",
    "\n",
    "[T] Assess my knowledge of the video through a multiple-choice quiz\n",
    "\n",
    "[I] Indicate timestamps\n",
    "\n",
    "\n"
   ]
  },
  {
   "cell_type": "markdown",
   "metadata": {},
   "source": [
    "## Homework Hack 2\n",
    "\n"
   ]
  },
  {
   "cell_type": "code",
   "execution_count": 1,
   "metadata": {},
   "outputs": [
    {
     "name": "stdout",
     "output_type": "stream",
     "text": [
      "Original List (1 to 30):\n",
      "[1, 2, 3, 4, 5, 6, 7, 8, 9, 10, 11, 12, 13, 14, 15, 16, 17, 18, 19, 20, 21, 22, 23, 24, 25, 26, 27, 28, 29, 30]\n",
      "\n",
      "Filtered List (Divisible by 3 but not by 5):\n",
      "[3, 6, 9, 12, 18, 21, 24, 27]\n"
     ]
    }
   ],
   "source": [
    "# Homework Hack #2\n",
    "\n",
    "# Step 1: Initialize the list with numbers from 1 to 30\n",
    "original_list = list(range(1, 31))\n",
    "\n",
    "# Step 2: Filter numbers divisible by 3 but not by 5\n",
    "filtered_list = [num for num in original_list if num % 3 == 0 and num % 5 != 0]\n",
    "\n",
    "# Step 3: Print the original and filtered lists\n",
    "print(\"Original List (1 to 30):\")\n",
    "print(original_list)\n",
    "\n",
    "print(\"\\nFiltered List (Divisible by 3 but not by 5):\")\n",
    "print(filtered_list)\n"
   ]
  }
 ],
 "metadata": {
  "kernelspec": {
   "display_name": "venv",
   "language": "python",
   "name": "python3"
  },
  "language_info": {
   "codemirror_mode": {
    "name": "ipython",
    "version": 3
   },
   "file_extension": ".py",
   "mimetype": "text/x-python",
   "name": "python",
   "nbconvert_exporter": "python",
   "pygments_lexer": "ipython3",
   "version": "3.12.3"
  }
 },
 "nbformat": 4,
 "nbformat_minor": 2
}
