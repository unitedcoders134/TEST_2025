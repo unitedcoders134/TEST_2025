{
 "cells": [
  {
   "cell_type": "raw",
   "metadata": {
    "vscode": {
     "languageId": "raw"
    }
   },
   "source": [
    "---\n",
    "layout: post\n",
    "title: Lesson Summary\n",
    "description:  Summary and Display of What Ive learned from lesson 3.1 and 3.4\n",
    "courses: { csp: {week 1} } \n",
    "comments: true\n",
    "sticky_rank: 1\n",
    "---"
   ]
  },
  {
   "cell_type": "markdown",
   "metadata": {},
   "source": [
    "## Summary Hack For Python\n",
    "\n",
    "In this summary hack, I create a simple quiz project. Users input their responses to their question (not case sensitive) and finally are graded based on the number of questions they answered correct."
   ]
  },
  {
   "cell_type": "code",
   "execution_count": 1,
   "metadata": {},
   "outputs": [
    {
     "name": "stdout",
     "output_type": "stream",
     "text": [
      "Question 1: Correct!\n",
      "Question 2: Correct!\n",
      "Question 3: Incorrect! The correct answer is ['Red', 'Blue', 'Green']\n",
      "Final Score: 2/3\n"
     ]
    }
   ],
   "source": [
    "# Python - Backend Simulation (Multiple questions + score tracking)\n",
    "\n",
    "def check_answers(answers):\n",
    "    correct_answers = [\"Paris\", 5, [\"Red\", \"Blue\", \"Green\"]]\n",
    "    score = 0\n",
    "\n",
    "    # Question 1: String comparison\n",
    "    if answers[0].strip().capitalize() == correct_answers[0]:\n",
    "        score += 1\n",
    "        print(\"Question 1: Correct!\")\n",
    "    else:\n",
    "        print(f\"Question 1: Incorrect! The correct answer is {correct_answers[0]}\")\n",
    "    \n",
    "    # Question 2: Integer comparison\n",
    "    if int(answers[1]) == correct_answers[1]:\n",
    "        score += 1\n",
    "        print(\"Question 2: Correct!\")\n",
    "    else:\n",
    "        print(f\"Question 2: Incorrect! The correct answer is {correct_answers[1]}\")\n",
    "    \n",
    "    # Question 3: List comparison (check elements)\n",
    "    answer_list = [color.strip().capitalize() for color in answers[2].split(\",\")]\n",
    "    if sorted(answer_list) == sorted(correct_answers[2]):\n",
    "        score += 1\n",
    "        print(\"Question 3: Correct!\")\n",
    "    else:\n",
    "        print(f\"Question 3: Incorrect! The correct answer is {correct_answers[2]}\")\n",
    "    \n",
    "    print(f\"Final Score: {score}/{len(correct_answers)}\")\n",
    "\n",
    "# Simulating user input\n",
    "user_answers = [\n",
    "    input(\"1. What is the capital of France? \"),\n",
    "    input(\"2. How many continents are there? \"),\n",
    "    input(\"3. Name three primary colors (comma separated): \")\n",
    "]\n",
    "\n",
    "check_answers(user_answers)\n"
   ]
  },
  {
   "cell_type": "markdown",
   "metadata": {},
   "source": [
    "## Connection to Lessons:\n",
    "**strip()** and **capitalize()** (from the Python String Manipulation lesson 3.4): These are used to clean up and format string input, ensuring consistent comparison even if the user types extra spaces or different capitalization.\n",
    "\n",
    "**int()** (from the Python Variables lesson 3.1): Converts string input into an integer for numerical comparison.\n",
    "List Operations (from Python Lists and String Operations): Splitting a string into a list of items using .split(), normalizing each item, and then using sorted() to ensure order-independent comparison."
   ]
  },
  {
   "cell_type": "markdown",
   "metadata": {},
   "source": [
    "## Summary Hack For JavaScript\n",
    "\n",
    "In this summary hack, I use key concepts learned from both javascript lessons to create a word unscrambler game. Players will recieve a javascript relating word in a scrambled form, and have to piece together the original word."
   ]
  },
  {
   "cell_type": "code",
   "execution_count": null,
   "metadata": {
    "vscode": {
     "languageId": "javascript"
    }
   },
   "outputs": [],
   "source": [
    "const words = [\"javascript\", \"variable\", \"function\", \"string\", \"loop\"];\n",
    "\n",
    "function scrambleWord(word) {\n",
    "    let scrambled = word.split(\"\");  // Split word into characters\n",
    "    for (let i = scrambled.length - 1; i > 0; i--) {  // Loop to shuffle characters\n",
    "        let j = Math.floor(Math.random() * (i + 1));\n",
    "        [scrambled[i], scrambled[j]] = [scrambled[j], scrambled[i]];  // Swap characters\n",
    "    }\n",
    "    return scrambled.join(\"\");  // Join characters into a scrambled word\n",
    "}\n",
    "\n",
    "function playGame() {\n",
    "    const maxAttempts = 3;\n",
    "    let word = words[Math.floor(Math.random() * words.length)];  // Select a random word\n",
    "    let scrambledWord = scrambleWord(word);\n",
    "    let attempts = 0;\n",
    "\n",
    "    console.log(`Scrambled word: ${scrambledWord}`);\n",
    "\n",
    "    while (attempts < maxAttempts) {\n",
    "        let userGuess = prompt(`Guess the word (Attempt ${attempts + 1}/${maxAttempts}):`);\n",
    "\n",
    "        if (userGuess !== null) {  // Check if userGuess is not null\n",
    "            if (userGuess.toLowerCase() === word) {\n",
    "                console.log(\"Correct! You guessed the word!\");\n",
    "                break;\n",
    "            } else {\n",
    "                console.log(\"Incorrect, try again.\");\n",
    "                attempts++;\n",
    "            }\n",
    "        } else {\n",
    "            console.log(\"No input provided, exiting game.\");\n",
    "            break;  // Exit the loop if user cancels the prompt\n",
    "        }\n",
    "    }\n",
    "\n",
    "    if (attempts === maxAttempts) {\n",
    "        console.log(`Sorry, you've run out of attempts! The word was: ${word}`);\n",
    "    }\n",
    "}\n",
    "\n",
    "// Start the game\n",
    "playGame();\n"
   ]
  },
  {
   "cell_type": "markdown",
   "metadata": {},
   "source": [
    "\n",
    "Array Methods (split(), join()) – This comes from lesson 3.1.1, covering basic array operations. We used these methods to split the word into characters and then reassemble it after scrambling.\n",
    "\n",
    "Loops (for) – From 3.1.2, we learned how to loop through arrays. Here, we used a loop to shuffle the characters in the scrambled word.\n",
    "\n",
    "Conditionals (if...else) – This builds on 3.4.1, which covers conditional statements. We used conditionals to check if the user’s guess matches the original word.\n",
    "\n",
    "Randomization (Math.random()) – Lesson 3.4.2 introduces randomization, which is used to randomly shuffle the letters and select words from the array.\n",
    "\n",
    "String Methods (toLowerCase()) – Also part of 3.1.1, the use of toLowerCase() ensures that guesses are case-insensitive."
   ]
  },
  {
   "cell_type": "markdown",
   "metadata": {},
   "source": [
    "## What I learned\n",
    "\n"
   ]
  },
  {
   "cell_type": "markdown",
   "metadata": {},
   "source": [
    "### Collaboration\n",
    "\n",
    "Working with my partners and team has been a huge part of my technical growth in this project. I learned lots of valuable communication skills through working thorugh my scrum master with pull requests and commits, as well as collaborating with my teammate Keerthan to make my project and his cumulate to allow our classmates to have a better grip on the concepts we present. This collaborating makes it so much easier to solve problems and helps me see the value in my teammate's imput. This taught me how to be a good teammate and group member, and boost my project's overall status."
   ]
  },
  {
   "cell_type": "markdown",
   "metadata": {},
   "source": [
    "## Lessons in Python and Javascripts"
   ]
  },
  {
   "cell_type": "markdown",
   "metadata": {},
   "source": [
    "Through this project, I've made substantial strides in my JavaScript skills. While I initially had only a basic understanding of the language, I now feel confident working with variables, loops, and functions. I've also become more adept at string manipulation, conditional statements, and arrays. This project provided me with opportunities to apply these concepts practically, significantly boosting my ability to write, debug, and refine JavaScript code. I also gained a lot from collaborating with my teammates and using additional resources. Prior to this, I had a decent grasp of Python but very little exposure to JavaScript. Thanks to this project and class, I've overcome those challenges and developed my JavaScript skills to their fullest potential."
   ]
  },
  {
   "cell_type": "markdown",
   "metadata": {},
   "source": [
    " | **Assignment**          | **Link** | **Grade** | **Comments** |\n",
    "|-------------------------|---------------|-----------|--------------|\n",
    "| College Board Coverage  | (https://nighthawkcoders.github.io/portfolio_2025/csp/big-idea/p2/3-4-2)            | 0.9       | I succeeded in covering all topics covered required by collegeboard.    \n",
    "|  Examples     | (https://nighthawkcoders.github.io/portfolio_2025/csp/big-idea/p2/3-4-2)           |    0.9    |I had detailed and specific examples to the lessons that I did.          |\n",
    "| Popcorn Hack Usage      | (https://nighthawkcoders.github.io/portfolio_2025/csp/big-idea/p2/3-4-3)            |   0.9     | My popcorn hacks made my users think critically, while also not being too difficult to follow / understand.\n",
    "| Homework                | (https://nighthawkcoders.github.io/portfolio_2025/csp/big-idea/p2/3-4-4)            | 0.9       | The Homework was not very complicated and had some examples on my lesson page, but still required some critical thinking.          |\n",
    "| Grading Plan            |      (https://docs.google.com/spreadsheets/d/1ytcHH94Pc_WQv6vFt-rMtssMYFeuX3M_wBlMs1neRXM/edit?resourcekey=&gid=631551841#gid=631551841)     | 0.92   | We Graded my fair share of people and was unbiased.          |\n",
    "| Original and Creative    |    (https://nighthawkcoders.github.io/portfolio_2025/csp/big-idea/p2/3-4-2)         | 0.92       | I created a megahack summing up everyting I learned as well as explaiing how they relate to the leson that was taught.      |\n",
    "| **Total**               |        |    **0.91**       |              |"
   ]
  }
 ],
 "metadata": {
  "kernelspec": {
   "display_name": "venv",
   "language": "python",
   "name": "python3"
  },
  "language_info": {
   "codemirror_mode": {
    "name": "ipython",
    "version": 3
   },
   "file_extension": ".py",
   "mimetype": "text/x-python",
   "name": "python",
   "nbconvert_exporter": "python",
   "pygments_lexer": "ipython3",
   "version": "3.12.3"
  }
 },
 "nbformat": 4,
 "nbformat_minor": 2
}
