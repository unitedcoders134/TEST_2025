{
 "cells": [
  {
   "cell_type": "code",
   "execution_count": null,
   "metadata": {},
   "outputs": [],
   "source": [
    "---\n",
    "layout: post\n",
    "title: Lesson Summary\n",
    "description:  Summary and Display of What I've learned from lesson 3.1 and 3.4\n",
    "courses: { csp: {week 1} } \n",
    "comments: true\n",
    "sticky_rank: 1\n",
    "---"
   ]
  },
  {
   "cell_type": "markdown",
   "metadata": {},
   "source": [
    "## Summary Hack For Python\n",
    "\n",
    "In this summary hack, I create a simple quiz project. Users input their responses to their question (not case sensitive) and finally are graded based on the number of questions they answered correct."
   ]
  },
  {
   "cell_type": "code",
   "execution_count": 1,
   "metadata": {},
   "outputs": [
    {
     "name": "stdout",
     "output_type": "stream",
     "text": [
      "Question 1: Correct!\n",
      "Question 2: Correct!\n",
      "Question 3: Incorrect! The correct answer is ['Red', 'Blue', 'Green']\n",
      "Final Score: 2/3\n"
     ]
    }
   ],
   "source": [
    "# Python - Backend Simulation (Multiple questions + score tracking)\n",
    "\n",
    "def check_answers(answers):\n",
    "    correct_answers = [\"Paris\", 5, [\"Red\", \"Blue\", \"Green\"]]\n",
    "    score = 0\n",
    "\n",
    "    # Question 1: String comparison\n",
    "    if answers[0].strip().capitalize() == correct_answers[0]:\n",
    "        score += 1\n",
    "        print(\"Question 1: Correct!\")\n",
    "    else:\n",
    "        print(f\"Question 1: Incorrect! The correct answer is {correct_answers[0]}\")\n",
    "    \n",
    "    # Question 2: Integer comparison\n",
    "    if int(answers[1]) == correct_answers[1]:\n",
    "        score += 1\n",
    "        print(\"Question 2: Correct!\")\n",
    "    else:\n",
    "        print(f\"Question 2: Incorrect! The correct answer is {correct_answers[1]}\")\n",
    "    \n",
    "    # Question 3: List comparison (check elements)\n",
    "    answer_list = [color.strip().capitalize() for color in answers[2].split(\",\")]\n",
    "    if sorted(answer_list) == sorted(correct_answers[2]):\n",
    "        score += 1\n",
    "        print(\"Question 3: Correct!\")\n",
    "    else:\n",
    "        print(f\"Question 3: Incorrect! The correct answer is {correct_answers[2]}\")\n",
    "    \n",
    "    print(f\"Final Score: {score}/{len(correct_answers)}\")\n",
    "\n",
    "# Simulating user input\n",
    "user_answers = [\n",
    "    input(\"1. What is the capital of France? \"),\n",
    "    input(\"2. How many continents are there? \"),\n",
    "    input(\"3. Name three primary colors (comma separated): \")\n",
    "]\n",
    "\n",
    "check_answers(user_answers)\n"
   ]
  },
  {
   "cell_type": "markdown",
   "metadata": {},
   "source": [
    "## Connection to Lessons:\n",
    "**strip()** and **capitalize()** (from the Python String Manipulation lesson 3.4): These are used to clean up and format string input, ensuring consistent comparison even if the user types extra spaces or different capitalization.\n",
    "\n",
    "**int()** (from the Python Variables lesson 3.1): Converts string input into an integer for numerical comparison.\n",
    "List Operations (from Python Lists and String Operations): Splitting a string into a list of items using .split(), normalizing each item, and then using sorted() to ensure order-independent comparison."
   ]
  },
  {
   "cell_type": "markdown",
   "metadata": {},
   "source": [
    "## Summary Hack For JavaScript\n",
    "\n",
    "In this summary hack, I use key concepts learned from both javascript lessons to create a word unscrambler game. Players will recieve a javascript relating word in a scrambled form, and have to piece together the original word."
   ]
  },
  {
   "cell_type": "code",
   "execution_count": 8,
   "metadata": {
    "vscode": {
     "languageId": "javascript"
    }
   },
   "outputs": [
    {
     "ename": "SyntaxError",
     "evalue": "invalid syntax (2692910569.py, line 1)",
     "output_type": "error",
     "traceback": [
      "\u001b[0;36m  Cell \u001b[0;32mIn[8], line 1\u001b[0;36m\u001b[0m\n\u001b[0;31m    let words = [\"javascript\", \"variable\", \"function\", \"string\", \"loop\"];\u001b[0m\n\u001b[0m        ^\u001b[0m\n\u001b[0;31mSyntaxError\u001b[0m\u001b[0;31m:\u001b[0m invalid syntax\n"
     ]
    }
   ],
   "source": [
    "const words = [\"javascript\", \"variable\", \"function\", \"string\", \"loop\"];\n",
    "\n",
    "function scrambleWord(word) {\n",
    "    let scrambled = word.split(\"\");  // Split word into characters\n",
    "    for (let i = scrambled.length - 1; i > 0; i--) {  // Loop to shuffle characters\n",
    "        let j = Math.floor(Math.random() * (i + 1));\n",
    "        [scrambled[i], scrambled[j]] = [scrambled[j], scrambled[i]];  // Swap characters\n",
    "    }\n",
    "    return scrambled.join(\"\");  // Join characters into a scrambled word\n",
    "}\n",
    "\n",
    "function playGame() {\n",
    "    const maxAttempts = 3;\n",
    "    let word = words[Math.floor(Math.random() * words.length)];  // Select a random word\n",
    "    let scrambledWord = scrambleWord(word);\n",
    "    let attempts = 0;\n",
    "\n",
    "    console.log(`Scrambled word: ${scrambledWord}`);\n",
    "\n",
    "    while (attempts < maxAttempts) {\n",
    "        let userGuess = prompt(`Guess the word (Attempt ${attempts + 1}/${maxAttempts}):`);\n",
    "\n",
    "        if (userGuess !== null) {  // Check if userGuess is not null\n",
    "            if (userGuess.toLowerCase() === word) {\n",
    "                console.log(\"Correct! You guessed the word!\");\n",
    "                break;\n",
    "            } else {\n",
    "                console.log(\"Incorrect, try again.\");\n",
    "                attempts++;\n",
    "            }\n",
    "        } else {\n",
    "            console.log(\"No input provided, exiting game.\");\n",
    "            break;  // Exit the loop if user cancels the prompt\n",
    "        }\n",
    "    }\n",
    "\n",
    "    if (attempts === maxAttempts) {\n",
    "        console.log(`Sorry, you've run out of attempts! The word was: ${word}`);\n",
    "    }\n",
    "}\n",
    "\n",
    "// Start the game\n",
    "playGame();\n"
   ]
  }
 ],
 "metadata": {
  "kernelspec": {
   "display_name": "venv",
   "language": "python",
   "name": "python3"
  },
  "language_info": {
   "codemirror_mode": {
    "name": "ipython",
    "version": 3
   },
   "file_extension": ".py",
   "mimetype": "text/x-python",
   "name": "python",
   "nbconvert_exporter": "python",
   "pygments_lexer": "ipython3",
   "version": "3.12.3"
  }
 },
 "nbformat": 4,
 "nbformat_minor": 2
}
