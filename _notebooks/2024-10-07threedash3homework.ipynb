{
 "cells": [
  {
   "cell_type": "code",
   "execution_count": null,
   "metadata": {},
   "outputs": [],
   "source": [
    "---\n",
    "layout: post\n",
    "title: 3.3 Homework and Popcorn Hacks  \n",
    "description:  Homework and Popcorn Hacks \n",
    "courses: { csp: {week 1} } \n",
    "comments: true\n",
    "sticky_rank: 1\n",
    "---"
   ]
  },
  {
   "cell_type": "code",
   "execution_count": 5,
   "metadata": {},
   "outputs": [
    {
     "ename": "ZeroDivisionError",
     "evalue": "integer modulo by zero",
     "output_type": "error",
     "traceback": [
      "\u001b[0;31m---------------------------------------------------------------------------\u001b[0m",
      "\u001b[0;31mZeroDivisionError\u001b[0m                         Traceback (most recent call last)",
      "Cell \u001b[0;32mIn[5], line 7\u001b[0m\n\u001b[1;32m      5\u001b[0m Multiply \u001b[38;5;241m=\u001b[39m a \u001b[38;5;241m*\u001b[39m b\n\u001b[1;32m      6\u001b[0m Divide \u001b[38;5;241m=\u001b[39m a \u001b[38;5;241m/\u001b[39m b \u001b[38;5;28;01mif\u001b[39;00m b \u001b[38;5;241m!=\u001b[39m \u001b[38;5;241m0\u001b[39m \u001b[38;5;28;01melse\u001b[39;00m \u001b[38;5;124m'\u001b[39m\u001b[38;5;124mundefined\u001b[39m\u001b[38;5;124m'\u001b[39m\n\u001b[0;32m----> 7\u001b[0m Modulus \u001b[38;5;241m=\u001b[39m \u001b[43ma\u001b[49m\u001b[43m \u001b[49m\u001b[38;5;241;43m%\u001b[39;49m\u001b[43m \u001b[49m\u001b[43mb\u001b[49m\n\u001b[1;32m      9\u001b[0m \u001b[38;5;28mprint\u001b[39m(\u001b[38;5;124mf\u001b[39m\u001b[38;5;124m\"\u001b[39m\u001b[38;5;124mAdd: \u001b[39m\u001b[38;5;132;01m{\u001b[39;00mAdd\u001b[38;5;132;01m}\u001b[39;00m\u001b[38;5;124m\"\u001b[39m)\n\u001b[1;32m     10\u001b[0m \u001b[38;5;28mprint\u001b[39m(\u001b[38;5;124mf\u001b[39m\u001b[38;5;124m\"\u001b[39m\u001b[38;5;124mSubtract: \u001b[39m\u001b[38;5;132;01m{\u001b[39;00mSubtract\u001b[38;5;132;01m}\u001b[39;00m\u001b[38;5;124m\"\u001b[39m)\n",
      "\u001b[0;31mZeroDivisionError\u001b[0m: integer modulo by zero"
     ]
    }
   ],
   "source": [
    "a, b = 11, 0\n",
    "\n",
    "Add = a + b\n",
    "Subtract = a - b\n",
    "Multiply = a * b\n",
    "Divide = a / b if b != 0 else 'undefined'\n",
    "Modulus = a % b\n",
    "\n",
    "print(f\"Add: {Add}\")\n",
    "print(f\"Subtract: {Subtract}\")\n",
    "print(f\"Multiply: {Multiply}\")\n",
    "print(f\"Divide: {Divide}\")\n",
    "print(f\"Modulus: {Modulus}\")"
   ]
  },
  {
   "cell_type": "code",
   "execution_count": 8,
   "metadata": {},
   "outputs": [
    {
     "name": "stdout",
     "output_type": "stream",
     "text": [
      "The 2th Fibonacci number is: 1\n"
     ]
    }
   ],
   "source": [
    "def fibonacc(n):\n",
    "    if n <= 0:\n",
    "        return \"invalid\"\n",
    "    elif n == 1:\n",
    "        return 0\n",
    "    elif n == 2:\n",
    "        return 1\n",
    "    else:\n",
    "        return fibonacc(n - 1) + fibonacc(n - 2)\n",
    "\n",
    "\n",
    "n = 2\n",
    "print(f\"The {n}th Fibonacci number is: {fibonacc(n)}\")"
   ]
  },
  {
   "cell_type": "code",
   "execution_count": 10,
   "metadata": {
    "vscode": {
     "languageId": "javascript"
    }
   },
   "outputs": [
    {
     "data": {
      "application/javascript": "function fibonacc(n) {\n    if (n <= 0) {\n        return \"invalid\";\n    } else if (n === 1) {\n        return 0;\n    } else if (n === 2) {\n        return 1;\n    } else {\n        return fibonacc(n - 1) + fibonacc(n - 2);\n    }\n}\n\nlet n = 2;\nconsole.log(`The ${n}th Fibonacci number is: ${fibonacc(n)}`);\n\n",
      "text/plain": [
       "<IPython.core.display.Javascript object>"
      ]
     },
     "metadata": {},
     "output_type": "display_data"
    }
   ],
   "source": [
    "%%javascript\n",
    "function fibonacc(n) {\n",
    "    if (n <= 0) {\n",
    "        return \"invalid\";\n",
    "    } else if (n === 1) {\n",
    "        return 0;\n",
    "    } else if (n === 2) {\n",
    "        return 1;\n",
    "    } else {\n",
    "        return fibonacc(n - 1) + fibonacc(n - 2);\n",
    "    }\n",
    "}\n",
    "\n",
    "let n = 2;\n",
    "console.log(`The ${n}th Fibonacci number is: ${fibonacc(n)}`);\n",
    "\n"
   ]
  },
  {
   "cell_type": "code",
   "execution_count": null,
   "metadata": {
    "vscode": {
     "languageId": "javascript"
    }
   },
   "outputs": [],
   "source": [
    "%%javascript\n",
    "let a = 11, b = 0;\n",
    "\n",
    "let Add = a + b;\n",
    "let Subtract = a - b;\n",
    "let Multiply = a * b;\n",
    "let Divide = b !== 0 ? a / b : 'undefined';\n",
    "\n",
    "console.log(`Add: ${Add}`);\n",
    "console.log(`Subtract: ${Subtract}`);\n",
    "console.log(`Multiply: ${Multiply}`);\n",
    "console.log(`Divide: ${Divide}`);\n",
    "\n"
   ]
  },
  {
   "cell_type": "code",
   "execution_count": null,
   "metadata": {},
   "outputs": [],
   "source": [
    "def A():\n",
    "    return True  # Condition A\n",
    "\n",
    "def B():\n",
    "    return True  # Condition B\n",
    "\n",
    "# Original statement: if A then B\n",
    "if A():\n",
    "    print(\"A is true, so B must also be true:\", B())\n",
    "else:\n",
    "    print(\"A is false, we cannot conclude anything about B.\")\n",
    "\n",
    "# Contrapositive: if not B then not A\n",
    "if not B():\n",
    "    print(\"B is false, therefore A must also be false:\", not A())\n",
    "else:\n",
    "    print(\"B is true, we cannot conclude anything about A.\")\n",
    "\n",
    "\n"
   ]
  },
  {
   "cell_type": "code",
   "execution_count": 11,
   "metadata": {
    "vscode": {
     "languageId": "javascript"
    }
   },
   "outputs": [
    {
     "data": {
      "application/javascript": "\npublic class ContrapositiveExample {\n    \n    public static boolean A() {\n        return true; // Condition A\n    }\n    \n    public static boolean B() {\n        return true; // Condition B\n    }\n    \n    public static void main(String[] args) {\n        // Original statement: if A then B\n        if (A()) {\n            System.out.println(\"A is true, so B must also be true: \" + B());\n        } else {\n            System.out.println(\"A is false, we cannot conclude anything about B.\");\n        }\n        \n        // Contrapositive: if not B then not A\n        if (!B()) {\n            System.out.println(\"B is false, therefore A must also be false: \" + !A());\n        } else {\n            System.out.println(\"B is true, we cannot conclude anything about A.\");\n        }\n    }\n}\n",
      "text/plain": [
       "<IPython.core.display.Javascript object>"
      ]
     },
     "metadata": {},
     "output_type": "display_data"
    }
   ],
   "source": [
    "class ContrapositiveExample {\n",
    "    \n",
    "    static A() {\n",
    "        return true; // Condition A\n",
    "    }\n",
    "    \n",
    "    static B() {\n",
    "        return true; // Condition B\n",
    "    }\n",
    "    \n",
    "    static main() {\n",
    "        // Original statement: if A then B\n",
    "        if (this.A()) {\n",
    "            console.log(\"A is true, so B must also be true: \" + this.B());\n",
    "        } else {\n",
    "            console.log(\"A is false, we cannot conclude anything about B.\");\n",
    "        }\n",
    "        \n",
    "        // Contrapositive: if not B then not A\n",
    "        if (!this.B()) {\n",
    "            console.log(\"B is false, therefore A must also be false: \" + !this.A());\n",
    "        } else {\n",
    "            console.log(\"B is true, we cannot conclude anything about A.\");\n",
    "        }\n",
    "    }\n",
    "}\n",
    "\n",
    "ContrapositiveExample.main();\n",
    "\n"
   ]
  }
 ],
 "metadata": {
  "kernelspec": {
   "display_name": "venv",
   "language": "python",
   "name": "python3"
  },
  "language_info": {
   "codemirror_mode": {
    "name": "ipython",
    "version": 3
   },
   "file_extension": ".py",
   "mimetype": "text/x-python",
   "name": "python",
   "nbconvert_exporter": "python",
   "pygments_lexer": "ipython3",
   "version": "3.12.3"
  }
 },
 "nbformat": 4,
 "nbformat_minor": 2
}
