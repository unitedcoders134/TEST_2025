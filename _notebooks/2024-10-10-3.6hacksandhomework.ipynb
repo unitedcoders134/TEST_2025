{
 "cells": [
  {
   "cell_type": "raw",
   "metadata": {
    "vscode": {
     "languageId": "raw"
    }
   },
   "source": [
    "---\n",
    "toc: false\n",
    "layout: post\n",
    "type: tangibles\n",
    "courses: { compsci: {week: 1} }\n",
    "title: 3.6 and 3.7 Popcorn and Homework Hacks\n",
    "permalink: /36-37hacks\n",
    "description: Mihir Submission for the 3.6 and 3.7 lesson Homework\n",
    "comments: true\n",
    "---"
   ]
  },
  {
   "cell_type": "code",
   "execution_count": 4,
   "metadata": {},
   "outputs": [
    {
     "name": "stdout",
     "output_type": "stream",
     "text": [
      "You got an A on the test!\n"
     ]
    }
   ],
   "source": [
    "score = 90\n",
    "\n",
    "if score >=90:\n",
    "    print(\"You got an A on the test!\")\n",
    "else:\n",
    "    print(\"You did not get an A on the test!\")"
   ]
  },
  {
   "cell_type": "code",
   "execution_count": 1,
   "metadata": {
    "vscode": {
     "languageId": "javascript"
    }
   },
   "outputs": [
    {
     "data": {
      "application/javascript": "let score = 90;\n\n// Conditional statement\nif (score >= 90) {\n    console.log(\"You got an A on the test!\");\n} else {\n    console.log(\"You did not get an A on the test!.\");\n}\n",
      "text/plain": [
       "<IPython.core.display.Javascript object>"
      ]
     },
     "metadata": {},
     "output_type": "display_data"
    }
   ],
   "source": [
    "%%js\n",
    "let score = 90;\n",
    "\n",
    "// Conditional statement\n",
    "if (score >= 90) {\n",
    "    console.log(\"You got an A on the test!\");\n",
    "} else {\n",
    "    console.log(\"You did not get an A on the test!.\");\n",
    "}"
   ]
  },
  {
   "cell_type": "code",
   "execution_count": null,
   "metadata": {},
   "outputs": [],
   "source": [
    "owns_a_key = True\n",
    "\n",
    "if owns_a_key:\n",
    "    print(\"Come on in!\")\n",
    "else:\n",
    "    print(\"You need a key to come in here\")"
   ]
  },
  {
   "cell_type": "code",
   "execution_count": null,
   "metadata": {
    "vscode": {
     "languageId": "javascript"
    }
   },
   "outputs": [],
   "source": [
    "%%js\n",
    "let owns_a_key = true;\n",
    "\n",
    "if (owns_a_key) {\n",
    "    console.log(\"Come on in!\");\n",
    "} else {\n",
    "    console.log(\"You need a key to come in here.\");\n",
    "}"
   ]
  },
  {
   "cell_type": "code",
   "execution_count": 5,
   "metadata": {
    "vscode": {
     "languageId": "javascript"
    }
   },
   "outputs": [
    {
     "data": {
      "application/javascript": "let ten_sided_dice = Math.floor(Math.random() * 8) + 1;\n\nconsole.log(\"Rolling the dice...\");\nconsole.log(`You rolled a ${roll_dice}`);\n\nif (roll_dice === 1) {\n    console.log(\"Oh no! You rolled a one. Try again!\");\n} else if (roll_dice <= 3) {\n    console.log(\"You rolled a low number. Better luck next time!\");\n} else if (roll_dice === 4) {\n    console.log(\"Not bad! You rolled a four.\");\n} else if (roll_dice === 5) {\n    console.log(\"Great roll! You rolled a five.\");\n} else if (roll_dice ===6) {\n    console.log(\"Great, you rolled a six!\")\n} else if (roll_dice ===7 ) {\n    console.log(\"Nice one, you rolled a seven!!!\"\n}\n else {\n    console.log(\"Awesome! You rolled a eight! You're on a roll!\");\n}\n",
      "text/plain": [
       "<IPython.core.display.Javascript object>"
      ]
     },
     "metadata": {},
     "output_type": "display_data"
    }
   ],
   "source": [
    "%%js\n",
    "let ten_sided_dice = Math.floor(Math.random() * 8) + 1;\n",
    "\n",
    "console.log(\"Rolling the dice...\");\n",
    "console.log(`You rolled a ${roll_dice}`);\n",
    "\n",
    "if (roll_dice === 1) {\n",
    "    console.log(\"Oh no! You rolled a one. Try again!\");\n",
    "} else if (roll_dice <= 3) {\n",
    "    console.log(\"You rolled a low number. Better luck next time!\");\n",
    "} else if (roll_dice === 4) {\n",
    "    console.log(\"Not bad! You rolled a four.\");\n",
    "} else if (roll_dice === 5) {\n",
    "    console.log(\"Great roll! You rolled a five.\");\n",
    "} else if (roll_dice ===6) {\n",
    "    console.log(\"Great, you rolled a six!\")\n",
    "} else if (roll_dice ===7 ) {\n",
    "    console.log(\"Nice one, you rolled a seven!!!\"\n",
    "}\n",
    " else {\n",
    "    console.log(\"Awesome! You rolled a eight! You're on a roll!\");\n",
    "}"
   ]
  },
  {
   "cell_type": "code",
   "execution_count": 9,
   "metadata": {},
   "outputs": [
    {
     "name": "stdout",
     "output_type": "stream",
     "text": [
      "You shouldn't have alcohol.\n"
     ]
    }
   ],
   "source": [
    "age = int(input(\"Enter your age: \"))\n",
    "likes_alcohol = input(\"Do you like alcohol? (yes/no): \").lower()\n",
    "\n",
    "if age >= 21:\n",
    "    if likes_alcohol == \"yes\":\n",
    "        print(\"You can have something to drink!\")\n",
    "    else:\n",
    "        print(\"You shouldn't have alcohol.\")\n",
    "else:\n",
    "    print(\"You're not old enough yet!\")\n"
   ]
  },
  {
   "cell_type": "code",
   "execution_count": 15,
   "metadata": {
    "vscode": {
     "languageId": "javascript"
    }
   },
   "outputs": [
    {
     "data": {
      "application/javascript": "let age = parseInt(prompt(\"Enter your age: \"));\nlet likesAlcohol = prompt(\"Do you like alcohol? (yes/no): \").toLowerCase();\n\nif (age >= 21) {\n    if (likesAlcohol === \"yes\") {\n        console.log(\"You can have something to drink!\");\n    } else {\n        console.log(\"You shouldn't have alcohol.\");\n    }\n} else {\n    console.log(\"You're not old enough yet!\");\n}\n",
      "text/plain": [
       "<IPython.core.display.Javascript object>"
      ]
     },
     "metadata": {},
     "output_type": "display_data"
    }
   ],
   "source": [
    "\n",
    "%%javascript\n",
    "let age = parseInt(prompt(\"Enter your age: \"));\n",
    "let likesAlcohol = prompt(\"Do you like alcohol? (yes/no): \").toLowerCase();\n",
    "\n",
    "if (age >= 21) {\n",
    "    if (likesAlcohol === \"yes\") {\n",
    "        console.log(\"You can have something to drink!\");\n",
    "    } else {\n",
    "        console.log(\"You shouldn't have alcohol.\");\n",
    "    }\n",
    "} else {\n",
    "    console.log(\"You're not old enough yet!\");\n",
    "}\n"
   ]
  },
  {
   "cell_type": "code",
   "execution_count": 18,
   "metadata": {
    "vscode": {
     "languageId": "javascript"
    }
   },
   "outputs": [
    {
     "name": "stdout",
     "output_type": "stream",
     "text": [
      "You can buy a MacBook!\n"
     ]
    }
   ],
   "source": [
    "# Savings\n",
    "savings = 20000000\n",
    "\n",
    "# Laptop prices\n",
    "house = 1500000\n",
    "pet = 700\n",
    "macbook_price = 1200\n",
    "\n",
    "# Determine which laptop you can buy\n",
    "if savings >= macbook_price:\n",
    "    print(\"You can buy a MacBook!\")\n",
    "elif savings >= dell_price:\n",
    "    print(\"You can buy a Dell laptop!\")\n",
    "elif savings >= pet:\n",
    "    print(\"You can buy a pet!\")\n",
    "else:\n",
    "    print(\"You don't have enough money to buy a laptop.\")"
   ]
  },
  {
   "cell_type": "code",
   "execution_count": 6,
   "metadata": {
    "vscode": {
     "languageId": "javascript"
    }
   },
   "outputs": [
    {
     "data": {
      "application/javascript": "// Grocery Conditions\nlet is_store_open = true;\nlet is_vegetables_available = false;\n\n// Shopping logic based on store and item availability\nif (is_store_open) {\n    console.log(\"You can go grocery shopping.\");\n\n    if (is_vegetables_available) {\n        console.log(\"Buy some fresh vegetables.\");\n    } else {\n        console.log(\"Check for other items on your list.\");\n    }\n} else {\n    console.log(\"The store is closed, shop another day.\");\n}\n",
      "text/plain": [
       "<IPython.core.display.Javascript object>"
      ]
     },
     "metadata": {},
     "output_type": "display_data"
    }
   ],
   "source": [
    "%%js\n",
    "// Grocery Conditions\n",
    "let is_store_open = true;\n",
    "let is_vegetables_available = false;\n",
    "\n",
    "// Shopping logic based on store and item availability\n",
    "if (is_store_open) {\n",
    "    console.log(\"You can go grocery shopping.\");\n",
    "\n",
    "    if (is_vegetables_available) {\n",
    "        console.log(\"Buy some fresh vegetables.\");\n",
    "    } else {\n",
    "        console.log(\"Check for other items on your list.\");\n",
    "    }\n",
    "} else {\n",
    "    console.log(\"The store is closed, shop another day.\");\n",
    "}"
   ]
  },
  {
   "cell_type": "code",
   "execution_count": 5,
   "metadata": {
    "vscode": {
     "languageId": "javascript"
    }
   },
   "outputs": [
    {
     "data": {
      "application/javascript": "\nlet moment = require('moment');\n//let option = input(\"Enter a date format: \");\n// change to hardset variable\nlet option = \"MM/DD/YYYY\";\nif (option === \"MM/DD/YYYY\") {\n    console.log(moment().format(\"MM/DD/YYYY\"));\n}\nelse if (option === \"DD/MM/YYYY\") {\n    console.log(moment().format(\"DD/MM/YYYY\"));\n}\nelse {\n    console.log(\"Invalid date format\");\n}\n",
      "text/plain": [
       "<IPython.core.display.Javascript object>"
      ]
     },
     "metadata": {},
     "output_type": "display_data"
    }
   ],
   "source": [
    "%%js\n",
    "\n",
    "let moment = require('moment');\n",
    "//let option = input(\"Enter a date format: \");\n",
    "// change to hardset variable\n",
    "let option = \"MM/DD/YYYY\";\n",
    "if (option === \"MM/DD/YYYY\") {\n",
    "    console.log(moment().format(\"MM/DD/YYYY\"));\n",
    "}\n",
    "else if (option === \"DD/MM/YYYY\") {\n",
    "    console.log(moment().format(\"DD/MM/YYYY\"));\n",
    "}\n",
    "else {\n",
    "    console.log(\"Invalid date format\");\n",
    "}"
   ]
  },
  {
   "cell_type": "code",
   "execution_count": 4,
   "metadata": {
    "vscode": {
     "languageId": "javascript"
    }
   },
   "outputs": [
    {
     "name": "stdout",
     "output_type": "stream",
     "text": [
      "You should focus on school sports activities!\n"
     ]
    }
   ],
   "source": [
    "age = int(input(\"Enter your age: \"))\n",
    "likes_sports = input(\"Do you like sports? (yes/no): \").lower()\n",
    "\n",
    "if age >= 18:\n",
    "    if likes_sports == \"yes\":\n",
    "        print(\"You can join a local sports team!\")\n",
    "    else:\n",
    "        print(\"You can try some indoor exercises.\")\n",
    "else:\n",
    "    print(\"You should focus on school sports activities!\")"
   ]
  },
  {
   "cell_type": "markdown",
   "metadata": {},
   "source": [
    "# Homework Hacks"
   ]
  },
  {
   "cell_type": "code",
   "execution_count": 1,
   "metadata": {
    "vscode": {
     "languageId": "javascript"
    }
   },
   "outputs": [
    {
     "name": "stdout",
     "output_type": "stream",
     "text": [
      "You scored 5/5!\n"
     ]
    }
   ],
   "source": [
    "correct = 0\n",
    "\n",
    "q1 = input(\"1. Which planet is known as the Red Planet? (a) Venus (b) Mars (c) Jupiter: \")\n",
    "if q1.lower() == \"b\":\n",
    "    correct += 1\n",
    "\n",
    "q2 = input(\"2. What is the capital of France? (a) Berlin (b) Madrid (c) Paris: \")\n",
    "if q2.lower() == \"c\":\n",
    "    correct += 1\n",
    "\n",
    "q3 = input(\"3. How many continents are there on Earth? (a) 6 (b) 7 (c) 8: \")\n",
    "if q3.lower() == \"b\":\n",
    "    correct += 1\n",
    "\n",
    "q4 = input(\"4. Who wrote 'Romeo and Juliet'? (a) Charles Dickens (b) William Shakespeare (c) Mark Twain: \")\n",
    "if q4.lower() == \"b\":\n",
    "    correct += 1\n",
    "\n",
    "q5 = input(\"5. What is the largest ocean on Earth? (a) Atlantic Ocean (b) Indian Ocean (c) Pacific Ocean: \")\n",
    "if q5.lower() == \"c\":\n",
    "    correct += 1\n",
    "\n",
    "print(f\"You scored {correct}/5!\")\n"
   ]
  },
  {
   "cell_type": "code",
   "execution_count": 2,
   "metadata": {},
   "outputs": [
    {
     "name": "stdout",
     "output_type": "stream",
     "text": [
      "Great! You will compete in the youth category.\n"
     ]
    }
   ],
   "source": [
    "age = int(input(\"Enter your age: \"))\n",
    "plays_instrument = input(\"Do you play a musical instrument? (yes/no): \").lower()\n",
    "\n",
    "can_enter_competition = age >= 12 and plays_instrument == \"yes\"\n",
    "\n",
    "if can_enter_competition:\n",
    "    if age < 18:\n",
    "        message = \"You will compete in the youth category.\"\n",
    "    else:\n",
    "        message = \"You will compete in the adult category.\"\n",
    "\n",
    "    print(f\"Great! {message}\")\n",
    "else:\n",
    "    print(\"Sorry, you can't enter the competition yet.\")\n"
   ]
  }
 ],
 "metadata": {
  "kernelspec": {
   "display_name": "venv",
   "language": "python",
   "name": "python3"
  },
  "language_info": {
   "codemirror_mode": {
    "name": "ipython",
    "version": 3
   },
   "file_extension": ".py",
   "mimetype": "text/x-python",
   "name": "python",
   "nbconvert_exporter": "python",
   "pygments_lexer": "ipython3",
   "version": "3.12.3"
  }
 },
 "nbformat": 4,
 "nbformat_minor": 2
}
