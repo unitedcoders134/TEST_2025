{
 "cells": [
  {
   "cell_type": "raw",
   "metadata": {
    "vscode": {
     "languageId": "raw"
    }
   },
   "source": [
    "---\n",
    "layout: post\n",
    "title: 3.2 Homework and Popcorn Hacks  \n",
    "description:  Homework and Popcorn Hacks \n",
    "courses: { csp: {week 1} } \n",
    "comments: true\n",
    "permalink: /32hacks\n",
    "sticky_rank: 1\n",
    "---"
   ]
  },
  {
   "cell_type": "code",
   "execution_count": 1,
   "metadata": {},
   "outputs": [
    {
     "name": "stdout",
     "output_type": "stream",
     "text": [
      "1\n"
     ]
    }
   ],
   "source": [
    "popcornhack1 = {\"bananas\": 1, \"apples\": 2, \"pears\": 3 }\n",
    "\n",
    "print(popcornhack1[\"bananas\"])"
   ]
  },
  {
   "cell_type": "code",
   "execution_count": 3,
   "metadata": {},
   "outputs": [
    {
     "ename": "ValueError",
     "evalue": "invalid literal for int() with base 10: '+'",
     "output_type": "error",
     "traceback": [
      "\u001b[0;31m---------------------------------------------------------------------------\u001b[0m",
      "\u001b[0;31mValueError\u001b[0m                                Traceback (most recent call last)",
      "Cell \u001b[0;32mIn[3], line 3\u001b[0m\n\u001b[1;32m      1\u001b[0m firstNumber \u001b[38;5;241m=\u001b[39m \u001b[38;5;28mint\u001b[39m(\u001b[38;5;28minput\u001b[39m(\u001b[38;5;124m\"\u001b[39m\u001b[38;5;124mPlease Enter the First Number Here: \u001b[39m\u001b[38;5;124m\"\u001b[39m))\n\u001b[1;32m      2\u001b[0m secondNumber \u001b[38;5;241m=\u001b[39m \u001b[38;5;28mint\u001b[39m(\u001b[38;5;28minput\u001b[39m(\u001b[38;5;124m\"\u001b[39m\u001b[38;5;124mPlease Enter the Second Number Here: \u001b[39m\u001b[38;5;124m\"\u001b[39m))\n\u001b[0;32m----> 3\u001b[0m mathFunction \u001b[38;5;241m=\u001b[39m \u001b[38;5;28;43mint\u001b[39;49m\u001b[43m(\u001b[49m\u001b[38;5;28;43minput\u001b[39;49m\u001b[43m(\u001b[49m\u001b[38;5;124;43m\"\u001b[39;49m\u001b[38;5;124;43mPlease Enter the function here: \u001b[39;49m\u001b[38;5;124;43m\"\u001b[39;49m\u001b[43m)\u001b[49m\u001b[43m)\u001b[49m \u001b[38;5;66;03m#Ex: +, -, *, /\u001b[39;00m\n\u001b[1;32m      5\u001b[0m \u001b[38;5;28;01mif\u001b[39;00m mathFunction \u001b[38;5;241m==\u001b[39m \u001b[38;5;124m\"\u001b[39m\u001b[38;5;124m+\u001b[39m\u001b[38;5;124m\"\u001b[39m:\n\u001b[1;32m      6\u001b[0m     \u001b[38;5;28mprint\u001b[39m(firstNumber \u001b[38;5;241m+\u001b[39m secondNumber)\n",
      "\u001b[0;31mValueError\u001b[0m: invalid literal for int() with base 10: '+'"
     ]
    }
   ],
   "source": [
    "firstNumber = int(input(\"Please Enter the First Number Here: \"))\n",
    "secondNumber = int(input(\"Please Enter the Second Number Here: \"))\n",
    "mathFunction = int(input(\"Please Enter the function here: \")) #Ex: +, -, *, /\n",
    "\n",
    "if mathFunction == \"+\":\n",
    "    print(firstNumber + secondNumber)\n",
    "elif mathFunction == \"-\":\n",
    "    print(firstNumber - secondNumber)\n",
    "elif mathFunction == \"*\":\n",
    "    print(firstNumber * secondNumber)\n",
    "elif mathFunction == \"/\":\n",
    "    print(firstNumber / secondNumber)"
   ]
  },
  {
   "cell_type": "code",
   "execution_count": 2,
   "metadata": {
    "vscode": {
     "languageId": "javascript"
    }
   },
   "outputs": [
    {
     "ename": "ValueError",
     "evalue": "invalid literal for int() with base 10: '-'",
     "output_type": "error",
     "traceback": [
      "\u001b[0;31m---------------------------------------------------------------------------\u001b[0m",
      "\u001b[0;31mValueError\u001b[0m                                Traceback (most recent call last)",
      "Cell \u001b[0;32mIn[2], line 3\u001b[0m\n\u001b[1;32m      1\u001b[0m firstNumber \u001b[38;5;241m=\u001b[39m \u001b[38;5;28mint\u001b[39m(\u001b[38;5;28minput\u001b[39m(\u001b[38;5;124m\"\u001b[39m\u001b[38;5;124mPlease Enter the First Number Here: \u001b[39m\u001b[38;5;124m\"\u001b[39m))\n\u001b[1;32m      2\u001b[0m secondNumber \u001b[38;5;241m=\u001b[39m \u001b[38;5;28mint\u001b[39m(\u001b[38;5;28minput\u001b[39m(\u001b[38;5;124m\"\u001b[39m\u001b[38;5;124mPlease Enter the Second Number Here: \u001b[39m\u001b[38;5;124m\"\u001b[39m))\n\u001b[0;32m----> 3\u001b[0m mathFunction \u001b[38;5;241m=\u001b[39m \u001b[38;5;28;43mint\u001b[39;49m\u001b[43m(\u001b[49m\u001b[38;5;28;43minput\u001b[39;49m\u001b[43m(\u001b[49m\u001b[38;5;124;43m\"\u001b[39;49m\u001b[38;5;124;43mPlease Enter the function here: \u001b[39;49m\u001b[38;5;124;43m\"\u001b[39;49m\u001b[43m)\u001b[49m\u001b[43m)\u001b[49m \u001b[38;5;66;03m#Ex: +, -, *, /\u001b[39;00m\n\u001b[1;32m      5\u001b[0m \u001b[38;5;28;01mif\u001b[39;00m mathFunction \u001b[38;5;241m==\u001b[39m \u001b[38;5;124m\"\u001b[39m\u001b[38;5;124m+\u001b[39m\u001b[38;5;124m\"\u001b[39m:\n\u001b[1;32m      6\u001b[0m     \u001b[38;5;28mprint\u001b[39m(firstNumber \u001b[38;5;241m+\u001b[39m secondNumber)\n",
      "\u001b[0;31mValueError\u001b[0m: invalid literal for int() with base 10: '-'"
     ]
    }
   ],
   "source": [
    "firstNumber = int(input(\"Please Enter the First Number Here: \"))\n",
    "secondNumber = int(input(\"Please Enter the Second Number Here: \"))\n",
    "mathFunction = int(input(\"Please Enter the function here: \")) #Ex: +, -, *, /\n",
    "\n",
    "if mathFunction == \"+\":\n",
    "    print(firstNumber + secondNumber)\n",
    "elif mathFunction == \"-\":\n",
    "    print(firstNumber - secondNumber)\n",
    "elif mathFunction == \"*\":\n",
    "    print(firstNumber * secondNumber)\n",
    "elif mathFunction == \"/\":\n",
    "    print(firstNumber / secondNumber)"
   ]
  },
  {
   "cell_type": "code",
   "execution_count": 4,
   "metadata": {},
   "outputs": [
    {
     "name": "stdout",
     "output_type": "stream",
     "text": [
      "['hellohellohello', 'worldworldworld', 'pythonpythonpython']\n"
     ]
    }
   ],
   "source": [
    "\n",
    "def repeat_strings_in_list(strings, n): \n",
    "    result = [] \n",
    "    for string in strings:\n",
    "        result.append(string * n)\n",
    "    return result\n",
    "\n",
    "string_list = [\"hello\", \"world\", \"python\"]\n",
    "print(repeat_strings_in_list(string_list, 3))"
   ]
  },
  {
   "cell_type": "code",
   "execution_count": 6,
   "metadata": {},
   "outputs": [
    {
     "name": "stdout",
     "output_type": "stream",
     "text": [
      "True\n",
      "False\n",
      "True\n",
      "False\n"
     ]
    }
   ],
   "source": [
    "\n",
    "def sets_have_common_elements(set1, set2):\n",
    "    for elem in set1:\n",
    "        if elem in set2:\n",
    "            return True\n",
    "    return False\n",
    "print(sets_have_common_elements({1, 2, 3}, {3, 4}))  # Output: True\n",
    "print(sets_have_common_elements({1, 2, 3}, {4, 5}))  # Output: False\n",
    "print(sets_have_common_elements({1, 2}, {2}))         # Output: False\n",
    "print(sets_have_common_elements({}, {}))             # Output: False\n",
    "    "
   ]
  },
  {
   "cell_type": "code",
   "execution_count": 12,
   "metadata": {},
   "outputs": [
    {
     "name": "stdout",
     "output_type": "stream",
     "text": [
      "Profile {'name': 'Mihir', 'age': 15, 'city': 'San Diego', 'favorite_color': 'Purple'}\n",
      "Hobbies: ['Reading', 'Doing Homework', 'Playing Badminton']\n",
      "Updated Profile: {'name': 'Mihir', 'age': 15, 'city': 'San Diego', 'favorite_color': 'Purple', 'hobbies': ['Reading', 'Doing Homework', 'Playing Badminton']}\n",
      "Is Reading available today? True\n",
      "I have 3 hobbies.\n",
      "Favorite Hobbies: ('Reading', 'Biking')\n",
      "Skills: {'Coding', 'Cooking', 'Reading'}\n",
      "New Skill: None\n",
      "Total cost to persue hobbies and skills: $45.00\n"
     ]
    }
   ],
   "source": [
    "profile = {\n",
    "    \"name\": \"Mihir\",\n",
    "    \"age\": 15,\n",
    "    \"city\": \"San Diego\",\n",
    "    \"favorite_color\": \"Purple\"\n",
    "}\n",
    "print(\"Profile\", profile)\n",
    "\n",
    "\n",
    "hobbies = [\"Reading\", \"Doing Homework\", \"Playing Badminton\"]\n",
    "print(\"Hobbies:\", hobbies)\n",
    "\n",
    "profile[\"hobbies\"] = hobbies\n",
    "print(\"Updated Profile:\", profile)\n",
    "\n",
    "has_hobby = True # or False\n",
    "print(f\"Is {hobbies[0]} available today? {has_hobby}\")\n",
    "\n",
    "\n",
    "total_hobbies = len(hobbies)\n",
    "print(f\"I have {total_hobbies} hobbies.\")\n",
    "\n",
    "favorite_hobbies = (\"Reading\", \"Biking\")\n",
    "print(\"Favorite Hobbies:\", favorite_hobbies)\n",
    "\n",
    "skills = {\"Reading\", \"Coding\", \"Cooking\"}\n",
    "print(\"Skills:\", skills)\n",
    "\n",
    "new_skill = None\n",
    "print(\"New Skill:\", new_skill)\n",
    "\n",
    "\n",
    "total_cost = float(total_hobbies * 5 + len(skills) * 10)\n",
    "print(f\"Total cost to persue hobbies and skills: $\")"
   ]
  },
  {
   "cell_type": "code",
   "execution_count": 18,
   "metadata": {
    "vscode": {
     "languageId": "javascript"
    }
   },
   "outputs": [
    {
     "data": {
      "application/javascript": "let profile = {\n    name: \"Mihir\",\n    age: 15,\n    city: \"San Diego\",\n    favorite_color: \"Purple\"\n};\nconsole.log(\"Profile\", profile);\n\nlet hobbies = [\"Reading\", \"Doing Homework\", \"Playing Badminton\"];\nconsole.log(\"Hobbies:\", hobbies);\n\nprofile.hobbies = hobbies;\nconsole.log(\"Updated Profile:\", profile);\n\nlet hasHobby = true;\nconsole.log(`Is ${hobbies[0]} available today? ${hasHobby}`);\n\nlet totalHobbies = hobbies.length;\nconsole.log(`I have ${totalHobbies} hobbies.`);\n\nlet favoriteHobbies = [\"Reading\", \"Biking\"];\nconsole.log(\"Favorite Hobbies:\", favoriteHobbies);\n\nlet skills = new Set([\"Reading\", \"Coding\", \"Cooking\"]);\nconsole.log(\"Skills:\", skills);\n\nlet newSkill = null;\nconsole.log(\"New Skill:\", newSkill);\n\nlet totalCost = (totalHobbies * 5) + (skills.size * 10);\nconsole.log(`Total cost to pursue hobbies and skills: $${totalCost.toFixed(2)}`);\n\n",
      "text/plain": [
       "<IPython.core.display.Javascript object>"
      ]
     },
     "metadata": {},
     "output_type": "display_data"
    }
   ],
   "source": [
    "%%javascript\n",
    "let profile = {\n",
    "    name: \"Mihir\",\n",
    "    age: 15,\n",
    "    city: \"San Diego\",\n",
    "    favorite_color: \"Purple\"\n",
    "};\n",
    "console.log(\"Profile\", profile);\n",
    "\n",
    "let hobbies = [\"Reading\", \"Doing Homework\", \"Playing Badminton\"];\n",
    "console.log(\"Hobbies:\", hobbies);\n",
    "\n",
    "profile.hobbies = hobbies;\n",
    "console.log(\"Updated Profile:\", profile);\n",
    "\n",
    "let hasHobby = true;\n",
    "console.log(`Is ${hobbies[0]} available today? ${hasHobby}`);\n",
    "\n",
    "let totalHobbies = hobbies.length;\n",
    "console.log(`I have ${totalHobbies} hobbies.`);\n",
    "\n",
    "let favoriteHobbies = [\"Reading\", \"Biking\"];\n",
    "console.log(\"Favorite Hobbies:\", favoriteHobbies);\n",
    "\n",
    "let skills = new Set([\"Reading\", \"Coding\", \"Cooking\"]);\n",
    "console.log(\"Skills:\", skills);\n",
    "\n",
    "let newSkill = null;\n",
    "console.log(\"New Skill:\", newSkill);\n",
    "\n",
    "let totalCost = (totalHobbies * 5) + (skills.size * 10);\n",
    "console.log(`Total cost to pursue hobbies and skills: $${totalCost.toFixed(2)}`);\n",
    "\n"
   ]
  }
 ],
 "metadata": {
  "kernelspec": {
   "display_name": "venv",
   "language": "python",
   "name": "python3"
  },
  "language_info": {
   "codemirror_mode": {
    "name": "ipython",
    "version": 3
   },
   "file_extension": ".py",
   "mimetype": "text/x-python",
   "name": "python",
   "nbconvert_exporter": "python",
   "pygments_lexer": "ipython3",
   "version": "3.12.3"
  }
 },
 "nbformat": 4,
 "nbformat_minor": 2
}
