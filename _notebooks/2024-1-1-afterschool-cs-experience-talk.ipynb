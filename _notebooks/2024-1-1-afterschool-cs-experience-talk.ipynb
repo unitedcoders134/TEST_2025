{
 "cells": [
  {
   "cell_type": "raw",
   "metadata": {
    "vscode": {
     "languageId": "raw"
    }
   },
   "source": [
    "---\n",
    "layout: page\n",
    "title: Tech Talk Notes\n",
    "course: \"compsci\"\n",
    "week: 18\n",
    "type: tangibles\n",
    "---"
   ]
  },
  {
   "cell_type": "markdown",
   "metadata": {},
   "source": [
    "- This blog is NOT a summary of the panelists' experiences\n",
    "- This blog IS a guide to remind myself of how I’ll use what I’m learning in the real world\n",
    "\n",
    "---\n",
    "\n",
    "*For grading purposes:*\n",
    "![selfie.png]({{site.baseurl}}/images/girlsinCSselfie.jpg)\n",
    "\n",
    "---\n",
    "\n",
    "### Organizing Properly\n",
    "- **Decomposition** is key: break big problems into small pieces, then reassemble for solutions\n",
    "- **Project-based learning** makes this process fun and engaging\n",
    "- Using **AGILE** and **Scrum** can make me a lot more credible and organized\n",
    "\n",
    "For example: Using this blog, I can break down improvements I should make, and then see my progress on those improvements every now and then by referring back to the blog.\n",
    "\n",
    "### How do I show people that I matter\n",
    "When applying for jobs or internships:\n",
    "- Highlight **achievements**\n",
    "- Use **numbers** to show impact\n",
    "- Explain **why what I'm talking about all matters**\n",
    "\n",
    "For example: This blog is important because in the future, it's going to help me recall the advice from the panelists and how I should continue to implement it\n",
    "\n",
    "### Clearer Communication\n",
    "Visuals make communicating 10 times better:\n",
    "- Flowcharts\n",
    "- UML diagrams\n",
    "- Data tables\n",
    "- Use case diagrams (UX)\n",
    "- User flow charts\n",
    "\n",
    "Example: Loved how David’s visualization of Dijkstra’s algorithm paired with a flow chart can make it much easier to understand even a complex thing\n",
    "\n",
    "### Harnessing Harsh Advice\n",
    "- Criticism can be helpful\n",
    "- Pick and choose the feedback that works best for me, and begin implementing it to show progression.\n",
    "\n",
    "Example: Taking Mr. Mortensen's criticism on our video and applying that to my next self-grading to truly understand how to improve on those things\n",
    "\n",
    "### Importance of Projects\n",
    "- **College apps:** Talk about my projects.\n",
    "- Research **college majors** and their projects.\n",
    "- Tie my interests into their work for a great \"**Why us?**\" essay answer.\n",
    "\n",
    "Example: Doing more passion projects!\n",
    "\n",
    "### GPA Isn't Everything\n",
    "- Explore **dual enrollment** or **community college** classes.\n",
    "- I should work on broadening my skills beyond just grades."
   ]
  }
 ],
 "metadata": {
  "language_info": {
   "name": "python"
  }
 },
 "nbformat": 4,
 "nbformat_minor": 2
}
