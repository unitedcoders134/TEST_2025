{
 "cells": [
  {
   "cell_type": "code",
   "execution_count": null,
   "metadata": {
    "vscode": {
     "languageId": "yaml"
    }
   },
   "outputs": [
    {
     "ename": "SyntaxError",
     "evalue": "invalid syntax (2090406253.py, line 1)",
     "output_type": "error",
     "traceback": [
      "\u001b[0;36m  Cell \u001b[0;32mIn[5], line 1\u001b[0;36m\u001b[0m\n\u001b[0;31m    ---\u001b[0m\n\u001b[0m       ^\u001b[0m\n\u001b[0;31mSyntaxError\u001b[0m\u001b[0;31m:\u001b[0m invalid syntax\n"
     ]
    }
   ],
   "source": [
    "---\n",
    "layout: post\n",
    "title:  bigO hacks\n",
    "description:  bigO hacks\n",
    "permalink: /bigO/\n",
    "courses: { csp: {week 1} } \n",
    "comments: true\n",
    "sticky_rank: 1\n",
    "---"
   ]
  },
  {
   "cell_type": "code",
   "execution_count": 1,
   "metadata": {},
   "outputs": [
    {
     "name": "stdout",
     "output_type": "stream",
     "text": [
      "3\n"
     ]
    }
   ],
   "source": [
    "arr = [1, 2, 3, 4, 5]\n",
    "print(arr[2])  # Indexing is O(1), and lists are 0-indexed, so index 2 is the third item\n"
   ]
  },
  {
   "cell_type": "code",
   "execution_count": 2,
   "metadata": {},
   "outputs": [
    {
     "name": "stdout",
     "output_type": "stream",
     "text": [
      "1\n",
      "2\n",
      "3\n",
      "4\n",
      "5\n"
     ]
    }
   ],
   "source": [
    "for item in arr:\n",
    "    print(item)  # Loops over each item once — linear time\n"
   ]
  },
  {
   "cell_type": "code",
   "execution_count": 3,
   "metadata": {},
   "outputs": [
    {
     "name": "stdout",
     "output_type": "stream",
     "text": [
      "(1, 2)\n",
      "(1, 3)\n",
      "(2, 3)\n"
     ]
    }
   ],
   "source": [
    "def print_unique_pairs(arr):\n",
    "    for i in range(len(arr)):\n",
    "        for j in range(i + 1, len(arr)):\n",
    "            print(f\"({arr[i]}, {arr[j]})\")\n",
    "\n",
    "# Example usage\n",
    "arr = [1, 2, 3]\n",
    "print_unique_pairs(arr)\n"
   ]
  },
  {
   "cell_type": "markdown",
   "metadata": {},
   "source": [
    "Popcorn Hack 2 continued — Complexity Explained\n",
    "The time complexity of this code is O(log n).\n",
    "Explanation:\n",
    "Binary search operates by consistently cutting the search range in half. After each comparison, it removes half of the remaining options. Because this method repeatedly reduces the problem size by half, the number of steps increases logarithmically with the input size, rather than growing linearly or quadratically. This makes binary search an extremely efficient algorithm for large, sorted datasets.\n",
    "\n",
    "Popcorn Hack 3\n",
    "\n",
    "b, factorial time explanation:\n",
    "Factorial time complexity — O(n!) — increases extremely rapidly. It quickly becomes unusable even for relatively small values of n (like n = 20). Algorithms with factorial time are usually brute-force approaches for very complex problems, such as the traveling salesman problem.\n",
    "\n",
    "c, quadratic time explanation:\n",
    "When two loops are nested and each runs up to n, the overall complexity is O(n²) — known as quadratic time. A typical example is iterating through all pairs of elements in a list."
   ]
  },
  {
   "cell_type": "markdown",
   "metadata": {},
   "source": [
    "Homework Hack:"
   ]
  },
  {
   "cell_type": "code",
   "execution_count": null,
   "metadata": {},
   "outputs": [
    {
     "ename": "SyntaxError",
     "evalue": "invalid syntax (571307143.py, line 1)",
     "output_type": "error",
     "traceback": [
      "\u001b[0;36m  Cell \u001b[0;32mIn[4], line 1\u001b[0;36m\u001b[0m\n\u001b[0;31m    Homework Hack\u001b[0m\n\u001b[0m             ^\u001b[0m\n\u001b[0;31mSyntaxError\u001b[0m\u001b[0;31m:\u001b[0m invalid syntax\n"
     ]
    }
   ],
   "source": [
    "\n",
    "\n",
    "\n",
    "def homework_hack(arr, complexity):\n",
    "    if complexity == \"constant\":\n",
    "        # Return the first item of the array (O(1) operation)\n",
    "        return arr[0] if arr else None\n",
    "    elif complexity == \"linear\":\n",
    "        # Print all the items in the array (O(n) operation)\n",
    "        for item in arr:\n",
    "            print(item)\n",
    "    elif complexity == \"quadratic\":\n",
    "        # Print all pairs of items in the array (O(n^2) operation)\n",
    "        for i in range(len(arr)):\n",
    "            for j in range(len(arr)):\n",
    "                print(arr[i], arr[j])\n",
    "    else:\n",
    "        print(\"Invalid complexity type. Use 'constant', 'linear', or 'quadratic'.\")\n"
   ]
  }
 ],
 "metadata": {
  "kernelspec": {
   "display_name": "venv",
   "language": "python",
   "name": "python3"
  },
  "language_info": {
   "codemirror_mode": {
    "name": "ipython",
    "version": 3
   },
   "file_extension": ".py",
   "mimetype": "text/x-python",
   "name": "python",
   "nbconvert_exporter": "python",
   "pygments_lexer": "ipython3",
   "version": "3.12.3"
  }
 },
 "nbformat": 4,
 "nbformat_minor": 2
}
