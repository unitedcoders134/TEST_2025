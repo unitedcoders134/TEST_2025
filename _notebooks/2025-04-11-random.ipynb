{
 "cells": [
  {
   "cell_type": "code",
   "execution_count": null,
   "metadata": {},
   "outputs": [],
   "source": [
    "---\n",
    "layout: post\n",
    "title:  Random Activity Generator\n",
    "description:  Random Activity Generator\n",
    "permalink: /random_activity/\n",
    "courses: { csp: {week 1} } \n",
    "comments: true\n",
    "sticky_rank: 1\n",
    "---"
   ]
  },
  {
   "cell_type": "code",
   "execution_count": 1,
   "metadata": {},
   "outputs": [
    {
     "name": "stdout",
     "output_type": "stream",
     "text": [
      "Today’s random activity: Take a nap\n"
     ]
    }
   ],
   "source": [
    "# Popcorn Hack Number 2 (Random): Make a random algorithm to choose a daily activity:\n",
    "import random\n",
    "# Step 1: Define a list of activities\n",
    "activities = ['Play badminton', 'Go to the park', 'Call a friend', 'play a sport', 'Watch a movie', 'Take a nap', 'Go for a run', 'Write a novel', 'Meditate', 'Listen to music', 'Be productive and do your csp assignments']\n",
    "# Step 2: Randomly choose an activity\n",
    "random_activity = random.choice(activities)\n",
    "# Step 3: Display the chosen activity\n",
    "print(f\"Today’s random activity: {random_activity}\")"
   ]
  },
  {
   "cell_type": "code",
   "execution_count": 3,
   "metadata": {},
   "outputs": [
    {
     "name": "stdout",
     "output_type": "stream",
     "text": [
      "Mihir will be monitoring Musical Chairs!\n",
      "Rutvik will be monitoring Duck Duck Goose!\n",
      "Travis will be monitoring Twister!\n"
     ]
    }
   ],
   "source": [
    "# Popcorn Hack Number 3: Using a loops in random\n",
    "# This popcorn hack assigns an activity to each person\n",
    "import random\n",
    "hosts = ['Mihir', 'Rutvik', 'Travis',]\n",
    "activities = ['Twister', 'Russian Roulette', 'Duck Duck Goose', 'Pin the tail', 'Musical Chairs']\n",
    "# Randomly shuffle the list of activities to assign them randomly to the guests\n",
    "random.shuffle(activities)\n",
    "# Loop through each guest and assign them a random activity\n",
    "for i in range(len(hosts)):\n",
    "    print(f\"{hosts[i]} will be monitoring {activities[i]}!\")"
   ]
  },
  {
   "cell_type": "code",
   "execution_count": 6,
   "metadata": {},
   "outputs": [
    {
     "name": "stdout",
     "output_type": "stream",
     "text": [
      "Computer chose: rock\n",
      "You chose: scissors\n",
      "You lose!\n"
     ]
    }
   ],
   "source": [
    "import random\n",
    "\n",
    "def play_rock_paper_scissors():\n",
    "    choices = ['rock', 'paper', 'scissors']\n",
    "    computer_choice = random.choice(choices)\n",
    "    user_choice = input(\"Enter your choice (rock, paper, or scissors): \")\n",
    "\n",
    "    if user_choice not in choices:\n",
    "        print(\"Invalid choice. Please try again.\")\n",
    "        return\n",
    "\n",
    "    print(\"Computer chose:\", computer_choice)\n",
    "    print(\"You chose:\", user_choice)\n",
    "\n",
    "    if user_choice == computer_choice:\n",
    "        print(\"It's a tie!\")\n",
    "    elif (user_choice == 'rock' and computer_choice == 'scissors') or (user_choice == 'paper' and computer_choice == 'rock') or (user_choice == 'scissors' and computer_choice == 'paper'):\n",
    "        print(\"You win!\")\n",
    "    else:\n",
    "        print(\"You lose!\")\n",
    "\n",
    "play_rock_paper_scissors()"
   ]
  },
  {
   "cell_type": "code",
   "execution_count": 4,
   "metadata": {},
   "outputs": [
    {
     "name": "stdout",
     "output_type": "stream",
     "text": [
      "Computer chose: rock ✊\n",
      "You chose: paper ✋\n",
      "You win!\n"
     ]
    }
   ],
   "source": [
    "import random\n",
    "\n",
    "def play_rock_paper_scissors():\n",
    "    choices = ['rock', 'paper', 'scissors']\n",
    "    emoji_map = {'rock': '✊', 'paper': '✋', 'scissors': '✌️'}\n",
    "\n",
    "    computer_choice = random.choice(choices)\n",
    "    user_choice = input(\"Enter your choice (rock, paper, or scissors): \")\n",
    "\n",
    "    if user_choice not in choices:\n",
    "        print(\"Invalid choice. Please try again.\")\n",
    "        return None, None\n",
    "\n",
    "    print(\"Computer chose:\", computer_choice, emoji_map[computer_choice])\n",
    "    print(\"You chose:\", user_choice, emoji_map[user_choice])\n",
    "\n",
    "    if user_choice == computer_choice:\n",
    "        print(\"It's a tie!\")\n",
    "    elif (user_choice == 'rock' and computer_choice == 'scissors') or \\\n",
    "         (user_choice == 'paper' and computer_choice == 'rock') or \\\n",
    "         (user_choice == 'scissors' and computer_choice == 'paper'):\n",
    "        print(\"You win!\")\n",
    "    else:\n",
    "        print(\"You lose!\")\n",
    "\n",
    "    return computer_choice, user_choice\n",
    "\n",
    "# Run the game\n",
    "computer_choice, user_choice = play_rock_paper_scissors()\n"
   ]
  },
  {
   "cell_type": "markdown",
   "metadata": {},
   "source": [
    "## Homework Hcks + Simluation"
   ]
  },
  {
   "cell_type": "code",
   "execution_count": 5,
   "metadata": {},
   "outputs": [
    {
     "name": "stdout",
     "output_type": "stream",
     "text": [
      "\n",
      "⚡ Team Thunder (7 members):\n",
      " - Bella\n",
      " - Caleb\n",
      " - Ethan\n",
      " - Fiona\n",
      " - Jasmine\n",
      " - Mason\n",
      " - Nora\n",
      "\n",
      "🔥 Team Blaze (5 members):\n",
      " - Aiden\n",
      " - Diana\n",
      " - Ian\n",
      " - Kyle\n",
      " - Luna\n",
      "\n",
      "🌊 Team Wave (3 members):\n",
      " - George\n",
      " - Hannah\n",
      " - Oliver\n"
     ]
    }
   ],
   "source": [
    "import random\n",
    "\n",
    "students = [\n",
    "    \"Aiden\", \"Bella\", \"Caleb\", \"Diana\", \"Ethan\",\n",
    "    \"Fiona\", \"George\", \"Hannah\", \"Ian\", \"Jasmine\",\n",
    "    \"Kyle\", \"Luna\", \"Mason\", \"Nora\", \"Oliver\"\n",
    "]\n",
    "\n",
    "teams = {\n",
    "    \"⚡ Team Thunder\": [],\n",
    "    \"🔥 Team Blaze\": [],\n",
    "    \"🌊 Team Wave\": []\n",
    "}\n",
    "\n",
    "# Randomly assign students\n",
    "for student in students:\n",
    "    team_name = random.choice(list(teams.keys()))\n",
    "    teams[team_name].append(student)\n",
    "\n",
    "# Print out results\n",
    "for team, members in teams.items():\n",
    "    print(f\"\\n{team} ({len(members)} members):\")\n",
    "    for member in members:\n",
    "        print(f\" - {member}\")\n"
   ]
  },
  {
   "cell_type": "markdown",
   "metadata": {},
   "source": [
    "## Hack 2"
   ]
  },
  {
   "cell_type": "code",
   "execution_count": 6,
   "metadata": {},
   "outputs": [
    {
     "name": "stdout",
     "output_type": "stream",
     "text": [
      "7-Day Weather Forecast:\n",
      "\n",
      "Monday: Sunny ☀️\n",
      "Tuesday: Cloudy ☁️\n",
      "Wednesday: Rainy 🌧️\n",
      "Thursday: Rainy 🌧️\n",
      "Friday: Sunny ☀️\n",
      "Saturday: Rainy 🌧️\n",
      "Sunday: Sunny ☀️\n"
     ]
    }
   ],
   "source": [
    "import random\n",
    "\n",
    "weather_options = [\"Sunny ☀️\", \"Cloudy ☁️\", \"Rainy 🌧️\"]\n",
    "days = [\"Monday\", \"Tuesday\", \"Wednesday\", \"Thursday\", \"Friday\", \"Saturday\", \"Sunday\"]\n",
    "\n",
    "# Simulate weather for each day\n",
    "print(\"7-Day Weather Forecast:\\n\")\n",
    "for day in days:\n",
    "    forecast = random.choice(weather_options)\n",
    "    print(f\"{day}: {forecast}\")\n"
   ]
  },
  {
   "cell_type": "markdown",
   "metadata": {},
   "source": [
    "## Simulation\n",
    "\n"
   ]
  },
  {
   "cell_type": "code",
   "execution_count": 7,
   "metadata": {},
   "outputs": [
    {
     "name": "stdout",
     "output_type": "stream",
     "text": [
      "Coffee Shop Queue Simulation:\n",
      "\n",
      "Customer 1 - Service Time: 1 minutes\n",
      "Customer 2 - Service Time: 4 minutes\n",
      "Customer 3 - Service Time: 4 minutes\n",
      "Customer 4 - Service Time: 5 minutes\n",
      "Customer 5 - Service Time: 2 minutes\n",
      "\n",
      "Total time to serve all customers: 16 minutes ☕\n"
     ]
    }
   ],
   "source": [
    "import random\n",
    "\n",
    "# Simulate 5 customers with random service times (1 to 5 minutes)\n",
    "customers = [f\"Customer {i+1}\" for i in range(5)]\n",
    "service_times = [random.randint(1, 5) for _ in customers]\n",
    "\n",
    "# Calculate total and individual wait times\n",
    "total_time = 0\n",
    "\n",
    "print(\"Coffee Shop Queue Simulation:\\n\")\n",
    "for i in range(len(customers)):\n",
    "    print(f\"{customers[i]} - Service Time: {service_times[i]} minutes\")\n",
    "    total_time += service_times[i]\n",
    "\n",
    "print(f\"\\nTotal time to serve all customers: {total_time} minutes ☕\")\n"
   ]
  }
 ],
 "metadata": {
  "kernelspec": {
   "display_name": "venv",
   "language": "python",
   "name": "python3"
  },
  "language_info": {
   "codemirror_mode": {
    "name": "ipython",
    "version": 3
   },
   "file_extension": ".py",
   "mimetype": "text/x-python",
   "name": "python",
   "nbconvert_exporter": "python",
   "pygments_lexer": "ipython3",
   "version": "3.12.3"
  }
 },
 "nbformat": 4,
 "nbformat_minor": 2
}
