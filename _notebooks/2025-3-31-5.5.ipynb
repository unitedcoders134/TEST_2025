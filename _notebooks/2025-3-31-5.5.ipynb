{
 "cells": [
  {
   "cell_type": "code",
   "execution_count": null,
   "metadata": {
    "vscode": {
     "languageId": "yaml"
    }
   },
   "outputs": [],
   "source": [
    "---\n",
    "layout: post\n",
    "title:  Legal and Ethical Concerns\n",
    "description:  Legal and Ethical Concerns\n",
    "permalink: /legal_ethical_concerns/\n",
    "courses: { csp: {week 1} } \n",
    "comments: true\n",
    "sticky_rank: 1\n",
    "---"
   ]
  },
  {
   "cell_type": "markdown",
   "metadata": {
    "vscode": {
     "languageId": "yaml"
    }
   },
   "source": [
    "## Popcorn Hack 1\n",
    "\n",
    "Some ways you can protect intellectual property is through a patent. For example, patents can protect intellectual property by ensuring that others cannot copy or recreate a design or idea that you already have, without your permission. Copyrights also protect anything classifying as a work of art, or something else of that sort. Trademarks protect brand names, logos, and other symbols that identify a business or product. Trade secrets protect secrets and methods that people use to make products or services. Patents, copyrights, trademarks, and trade secrets are all ways to protect. Using DRM tools also can help prevent people from stealing online property aswell. \n",
    "\n"
   ]
  },
  {
   "cell_type": "markdown",
   "metadata": {},
   "source": [
    "## Popcorn Hack #2\n",
    "\n",
    "- Open source licenses such as MIT, GPL, or Apache License.  \n",
    "- Hosting code on platforms like GitHub or GitLab.  \n",
    "- Selling code through marketplaces like CodeCanyon or Gumroad.  \n",
    "- Sharing code snippets on forums or communities like Stack Overflow.  \n",
    "- Creating tutorials or blogs to share code examples.  \n",
    "- Publishing packages or libraries to repositories like PyPI or npm.  "
   ]
  },
  {
   "cell_type": "markdown",
   "metadata": {
    "vscode": {
     "languageId": "yaml"
    }
   },
   "source": [
    "## Popcorn Hack #3\n",
    "\n",
    "- Always give credit to the original creator.  \n",
    "- Use works that are in the public domain.  \n",
    "- Obtain proper licenses or permissions for copyrighted material.  \n",
    "- Use Creative Commons licensed content with proper attribution.  \n",
    "- Create your own original content.  \n",
    "- Use copyright-free or royalty-free resources.  \n",
    "- Educate yourself and others about copyright laws and fair use.  \n",
    "\n",
    "Discussed with Adi Katre\n",
    "\n"
   ]
  },
  {
   "cell_type": "markdown",
   "metadata": {},
   "source": [
    "## Apache License on Personal Repository\n",
    "\n",
    "https://github.com/unitedcoders134/TEST_2025/blob/main/LICENSE\n",
    "\n",
    "\n",
    "## MIT License on Pilot City Project\n",
    "\n",
    "https://github.com/michellekuruvilla/healthmedia/blob/main/LICENSE\n"
   ]
  }
 ],
 "metadata": {
  "language_info": {
   "name": "python"
  }
 },
 "nbformat": 4,
 "nbformat_minor": 2
}
