{
 "cells": [
  {
   "cell_type": "code",
   "execution_count": null,
   "metadata": {
    "vscode": {
     "languageId": "yaml"
    }
   },
   "outputs": [],
   "source": [
    "---\n",
    "layout: post\n",
    "title:  Crowdsourcing\n",
    "description:  Crowdsourcing\n",
    "permalink: /Crowdsourcing/\n",
    "courses: { csp: {week 1} } \n",
    "comments: true\n",
    "sticky_rank: 1\n",
    "---"
   ]
  },
  {
   "cell_type": "markdown",
   "metadata": {},
   "source": [
    "## Mango Rating\n",
    "\n",
    "\n",
    "10 \n",
    "\n",
    "\n",
    "## Popcorn Hack #3\n",
    "\n",
    "One example of crowdosurcing that I'v seen online is the Surveys that Del Norte uses to get thousands of opinions on Student's lives and mental health. This is an example of crowdsourcing because Del Norte uses multiple opinions of the studen\n",
    "\n",
    "\n",
    "## Homework Hack\n",
    "\n",
    "My two songs:\n",
    "\n",
    "<iframe style=\"border-radius:12px\" src=\"https://open.spotify.com/embed/track/5h68SoVFGleijCtjEja3xG?utm_source=generator\" width=\"100%\" height=\"352\" frameBorder=\"0\" allowfullscreen=\"\" allow=\"autoplay; clipboard-write; encrypted-media; fullscreen; picture-in-picture\" loading=\"lazy\"></iframe>\n",
    "\n",
    "<iframe style=\"border-radius:12px\" src=\"https://open.spotify.com/embed/track/19RybK6XDbAVpcdxSbZL1o?utm_source=generator\" width=\"100%\" height=\"352\" frameBorder=\"0\" allowfullscreen=\"\" allow=\"autoplay; clipboard-write; encrypted-media; fullscreen; picture-in-picture\" loading=\"lazy\"></iframe>\n",
    "\n",
    "\n"
   ]
  },
  {
   "cell_type": "markdown",
   "metadata": {},
   "source": [
    "\n"
   ]
  }
 ],
 "metadata": {
  "language_info": {
   "name": "python"
  }
 },
 "nbformat": 4,
 "nbformat_minor": 2
}
