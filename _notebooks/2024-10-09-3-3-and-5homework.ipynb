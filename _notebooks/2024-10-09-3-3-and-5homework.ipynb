{
 "cells": [
  {
   "cell_type": "raw",
   "metadata": {
    "vscode": {
     "languageId": "raw"
    }
   },
   "source": [
    "---\n",
    "toc: false\n",
    "layout: post\n",
    "type: tangibles\n",
    "courses: { compsci: {week: 1} }\n",
    "title: 3.3 and 3.5 Popcorn and Homework Hacks\n",
    "permalink: /33-35hacks\n",
    "description: Mihir Submission for the 3.3 and 3.5 lesson Homework\n",
    "comments: true\n",
    "---"
   ]
  },
  {
   "cell_type": "markdown",
   "metadata": {},
   "source": [
    "## BONUS\n",
    "Explanation of De-Morgan's Law"
   ]
  },
  {
   "cell_type": "markdown",
   "metadata": {},
   "source": [
    "DeMorgan's Law is a law that helps simplify logical expressions, by distributing NOT or OR operations.\n",
    "\n",
    "The law states that:\n",
    "\n",
    "NOT (A AND B) is the same as (NOT A) OR (NOT B)\n",
    "NOT (A OR B) is the same as (NOT A) AND (NOT B)\n",
    "\n",
    "Demorgan's Law Helps us rewrite negative conditions with clarity using variables A and B, simplifies expressions in code and algebra, and is applicable in both math and computer science. \n",
    "An example of a DeMorgan's Law demonstration is:"
   ]
  },
  {
   "cell_type": "code",
   "execution_count": 1,
   "metadata": {},
   "outputs": [
    {
     "name": "stdout",
     "output_type": "stream",
     "text": [
      "True\n",
      "True\n"
     ]
    }
   ],
   "source": [
    "A = False\n",
    "B = True\n",
    "\n",
    "print(not (A and B) == (not A or not B))\n",
    "print(not (A or B) == (not A and not B))"
   ]
  },
  {
   "cell_type": "markdown",
   "metadata": {},
   "source": [
    "## Mathematical Expressions"
   ]
  },
  {
   "cell_type": "markdown",
   "metadata": {},
   "source": [
    "### Popcorn Hack 1"
   ]
  },
  {
   "cell_type": "code",
   "execution_count": 2,
   "metadata": {},
   "outputs": [
    {
     "name": "stdout",
     "output_type": "stream",
     "text": [
      "Add: 7\n",
      "Subtract: 3\n",
      "Multiply: 10\n",
      "Divide: 2.5\n"
     ]
    }
   ],
   "source": [
    "a = int(input(\"Enter first number: \"))\n",
    "b = int(input(\"Enter second number: \"))\n",
    "\n",
    "Add = a + b\n",
    "Subtract = a - b\n",
    "Multiply = a * b\n",
    "Divide = a / b if b != 0 else 'undefined'\n",
    "\n",
    "print(f\"Add: {Add}\")\n",
    "print(f\"Subtract: {Subtract}\")\n",
    "print(f\"Multiply: {Multiply}\")\n",
    "print(f\"Divide: {Divide}\")\n"
   ]
  },
  {
   "cell_type": "markdown",
   "metadata": {},
   "source": [
    "### Popcorn Hack 2"
   ]
  },
  {
   "cell_type": "code",
   "execution_count": 3,
   "metadata": {},
   "outputs": [
    {
     "name": "stdout",
     "output_type": "stream",
     "text": [
      "The 13th Fibonacci number is: 144\n"
     ]
    }
   ],
   "source": [
    "def fibonacc(n):\n",
    "    if n <= 0:\n",
    "        return \"invalid\"\n",
    "    elif n == 1:\n",
    "        return 0\n",
    "    elif n == 2:\n",
    "        return 1\n",
    "    else:\n",
    "        return fibonacc(n - 1) + fibonacc(n - 2)\n",
    "\n",
    "\n",
    "n = int(input(\"To what iteration do you want to calculate the Fibonacci number? \"))\n",
    "print(f\"The {n}th Fibonacci number is: {fibonacc(n)}\")"
   ]
  },
  {
   "cell_type": "markdown",
   "metadata": {},
   "source": [
    "### Homework Hack 1\n",
    "First hack is impossible as we don't have access to the numpy module but I will provide a theoretical demonstration."
   ]
  },
  {
   "cell_type": "code",
   "execution_count": 4,
   "metadata": {},
   "outputs": [
    {
     "ename": "ModuleNotFoundError",
     "evalue": "No module named 'numpy'",
     "output_type": "error",
     "traceback": [
      "\u001b[0;31m---------------------------------------------------------------------------\u001b[0m",
      "\u001b[0;31mModuleNotFoundError\u001b[0m                       Traceback (most recent call last)",
      "Cell \u001b[0;32mIn[4], line 3\u001b[0m\n\u001b[1;32m      1\u001b[0m \u001b[38;5;66;03m# Python: Fibonacci Using Matrix Exponentiation\u001b[39;00m\n\u001b[0;32m----> 3\u001b[0m \u001b[38;5;28;01mimport\u001b[39;00m \u001b[38;5;21;01mnumpy\u001b[39;00m \u001b[38;5;28;01mas\u001b[39;00m \u001b[38;5;21;01mnp\u001b[39;00m\n\u001b[1;32m      4\u001b[0m \u001b[38;5;28;01mimport\u001b[39;00m \u001b[38;5;21;01mlogging\u001b[39;00m\n\u001b[1;32m      5\u001b[0m \u001b[38;5;28;01mimport\u001b[39;00m \u001b[38;5;21;01msys\u001b[39;00m\n",
      "\u001b[0;31mModuleNotFoundError\u001b[0m: No module named 'numpy'"
     ]
    }
   ],
   "source": [
    "# Python: Fibonacci Using Matrix Exponentiation\n",
    "\n",
    "import numpy as np\n",
    "import logging\n",
    "import sys\n",
    "\n",
    "# Configure logging\n",
    "logging.basicConfig(level=logging.INFO, format='%(levelname)s:%(message)s')\n",
    "\n",
    "def matrix_multiply(A, B):\n",
    "    \"\"\"\n",
    "    Perform matrix multiplication between two numpy arrays A and B.\n",
    "    \"\"\"\n",
    "    logging.debug(f\"Multiplying matrices:\\n{A}\\n{B}\")\n",
    "    return np.dot(A, B)\n",
    "\n",
    "def matrix_power(M, exp):\n",
    "    \"\"\"\n",
    "    Raise matrix M to the specified power using binary exponentiation.\n",
    "    \"\"\"\n",
    "    if exp < 0:\n",
    "        raise ValueError(\"Exponent must be a non-negative integer.\")\n",
    "    \n",
    "    result = np.identity(len(M), dtype=object)\n",
    "    logging.debug(f\"Starting with identity matrix:\\n{result}\")\n",
    "    \n",
    "    while exp > 0:\n",
    "        if exp % 2 == 1:\n",
    "            result = matrix_multiply(result, M)\n",
    "            logging.debug(f\"Result after multiplying by M:\\n{result}\")\n",
    "        M = matrix_multiply(M, M)\n",
    "        logging.debug(f\"Matrix M squared:\\n{M}\")\n",
    "        exp //= 2\n",
    "        logging.debug(f\"Exponent reduced to: {exp}\")\n",
    "    \n",
    "    return result\n",
    "\n",
    "def fibonacci_matrix(n):\n",
    "    \"\"\"\n",
    "    Calculate the nth Fibonacci number using matrix exponentiation.\n",
    "    \"\"\"\n",
    "    if not isinstance(n, int):\n",
    "        raise TypeError(\"Input must be an integer.\")\n",
    "    if n < 0:\n",
    "        raise ValueError(\"Fibonacci number is not defined for negative integers.\")\n",
    "    if n == 0:\n",
    "        return 0\n",
    "    if n == 1:\n",
    "        return 1\n",
    "    \n",
    "    F = np.array([[1, 1], [1, 0]], dtype=object)\n",
    "    result = matrix_power(F, n-1)\n",
    "    \n",
    "    logging.info(f\"Matrix raised to power {n-1}:\\n{result}\")\n",
    "    return result[0][0]\n",
    "\n",
    "def validate_input(user_input):\n",
    "    \"\"\"\n",
    "    Validate the user input to ensure it's a non-negative integer.\n",
    "    \"\"\"\n",
    "    try:\n",
    "        value = int(user_input)\n",
    "        if value < 0:\n",
    "            raise ValueError\n",
    "        return value\n",
    "    except ValueError:\n",
    "        raise ValueError(\"Please enter a valid non-negative integer.\")\n",
    "\n",
    "def main():\n",
    "    \"\"\"\n",
    "    Main function to execute the Fibonacci calculation.\n",
    "    \"\"\"\n",
    "    try:\n",
    "        user_input = input(\"Enter the position of the Fibonacci number you want to calculate: \")\n",
    "        n = validate_input(user_input)\n",
    "        fib_n = fibonacci_matrix(n)\n",
    "        print(f\"Fibonacci number at position {n} is: {fib_n}\")\n",
    "    except ValueError as ve:\n",
    "        logging.error(ve)\n",
    "    except Exception as e:\n",
    "        logging.error(f\"An unexpected error occurred: {e}\")\n",
    "        sys.exit(1)\n",
    "\n",
    "if __name__ == \"__main__\":\n",
    "    main()\n"
   ]
  },
  {
   "cell_type": "markdown",
   "metadata": {},
   "source": [
    "## Boolean Hacks"
   ]
  },
  {
   "cell_type": "markdown",
   "metadata": {},
   "source": [
    "### Popcorn Hack 1"
   ]
  },
  {
   "cell_type": "code",
   "execution_count": 5,
   "metadata": {},
   "outputs": [
    {
     "name": "stdout",
     "output_type": "stream",
     "text": [
      "I am coding late at night, so I must be drinking coffee: False\n",
      "I am not drinking coffee, therefore I might not be coding late: False\n"
     ]
    }
   ],
   "source": [
    "def is_coding_late():\n",
    "    return True\n",
    "\n",
    "def drinking_coffee():\n",
    "    return False\n",
    "\n",
    "if is_coding_late():\n",
    "    print(\"I am coding late at night, so I must be drinking coffee:\", drinking_coffee())\n",
    "else:\n",
    "    print(\"I am not coding late, we cannot conclude anything about my coffee intake.\")\n",
    "\n",
    "if not drinking_coffee():\n",
    "    print(\"I am not drinking coffee, therefore I might not be coding late:\", not is_coding_late())\n",
    "else:\n",
    "    print(\"I am drinking coffee, we cannot conclude anything about whether I'm coding late.\")\n"
   ]
  },
  {
   "cell_type": "markdown",
   "metadata": {},
   "source": [
    "### Homework Hack 1\n",
    "The hacks were supposed to be in javascript instead of java ( manas ik its not ur fault)  so I didn't do it."
   ]
  },
  {
   "cell_type": "code",
   "execution_count": 6,
   "metadata": {},
   "outputs": [
    {
     "name": "stdout",
     "output_type": "stream",
     "text": [
      "A     B   | AND  | OR   | NOT A\n",
      "-------------------------------\n",
      "1     1     | 1     | 1     | False\n",
      "1     0     | 0     | 1     | False\n",
      "0     1     | 0     | 1     | True\n",
      "0     0     | 0     | 0     | True\n"
     ]
    }
   ],
   "source": [
    "def AND(A, B):\n",
    "    return A and B\n",
    "\n",
    "def OR(A, B):\n",
    "    return A or B\n",
    "\n",
    "def NOT(A):\n",
    "    return not A\n",
    "\n",
    "print(\"A     B   | AND  | OR   | NOT A\")\n",
    "print(\"-------------------------------\")\n",
    "for A in [True, False]:\n",
    "    for B in [True, False]:\n",
    "        print(f\"{A:<5} {B:<5} | {AND(A, B):<5} | {OR(A, B):<5} | {NOT(A)}\")\n"
   ]
  }
 ],
 "metadata": {
  "kernelspec": {
   "display_name": "venv",
   "language": "python",
   "name": "python3"
  },
  "language_info": {
   "codemirror_mode": {
    "name": "ipython",
    "version": 3
   },
   "file_extension": ".py",
   "mimetype": "text/x-python",
   "name": "python",
   "nbconvert_exporter": "python",
   "pygments_lexer": "ipython3",
   "version": "3.12.3"
  }
 },
 "nbformat": 4,
 "nbformat_minor": 2
}
