{
 "cells": [
  {
   "cell_type": "code",
   "execution_count": null,
   "metadata": {
    "vscode": {
     "languageId": "yaml"
    }
   },
   "outputs": [],
   "source": [
    "---\n",
    "layout: post\n",
    "title:  Digital Divide\n",
    "description:  Popcorn Hacks for the Digital Divide Lesson\n",
    "permalink: /digital-divide/\n",
    "courses: { csp: {week 1} } \n",
    "comments: true\n",
    "sticky_rank: 1\n",
    "---"
   ]
  },
  {
   "cell_type": "markdown",
   "metadata": {
    "vscode": {
     "languageId": "yaml"
    }
   },
   "source": [
    "## Popcorn Hack #1. \n",
    "\n",
    "Popcorn Hack: Example Problem in MCQ\n",
    "Question: Which of the following actions are likely to be helpful in reducing the digital divide? Select two answers.\n",
    "\n",
    "Options\n",
    "\n",
    "- A) Designing new technologies intended only for advanced users\n",
    "- B) Designing new technologies to be accessible to individuals with different physical abilities\n",
    "- C) Implementing government regulations restricting citizens’ access to Web content\n",
    "- D) Having world governments support the construction of network infrastructure\n",
    "\n",
    "Answers: B, D.  Designing new technologies to be accessible to individuals with different physical abilities and Having world governments support the construction of network infrastructure. This is because designing new tchnologies to be accessible to individuals with different physical abilities will allow new users to be more familiar with technology. Having world governments support the construction of network infrastructure can help by allowing governments to foster the growth of technology. \n",
    "\n"
   ]
  },
  {
   "cell_type": "markdown",
   "metadata": {},
   "source": [
    "## Popcorn Hack #2 \n",
    "\n",
    "How would you attempt to fix the digital divide or prevent it from being as prevalent in our community? What are some things that are already being done? What are some things we can add? Explain.\n",
    "\n",
    "# 🌐 Fixing the Digital Divide in Our Community\n",
    "\n",
    "The digital divide—where some people have access to technology and the internet while others don't—is a major barrier to education, employment, and opportunity. Here's how we can tackle it:\n",
    "\n",
    "---\n",
    "\n",
    "## ✅ How I Would Attempt to Fix the Digital Divide\n",
    "\n",
    "1. **Provide Affordable Internet Access**\n",
    "   - Partner with internet service providers to offer free or low-cost Wi-Fi in underserved communities.\n",
    "   - Expand public Wi-Fi hotspots in schools, libraries, parks, and community centers.\n",
    "\n",
    "2. **Distribute Devices to Students and Families**\n",
    "   - Work with schools and nonprofits to provide laptops or tablets to students who need them.\n",
    "   - Create tech lending programs through public libraries or local government offices.\n",
    "\n",
    "3. **Offer Digital Literacy Training**\n",
    "   - Host free tech workshops for students, parents, and seniors on how to use the internet, software, and online tools.\n",
    "   - Translate resources into multiple languages to be inclusive.\n",
    "\n",
    "4. **Support Schools and Teachers**\n",
    "   - Train teachers on how to effectively use tech in the classroom and during distance learning.\n",
    "   - Fund schools to upgrade their digital infrastructure.\n",
    "\n",
    "---\n",
    "\n",
    "## 💡 What’s Already Being Done\n",
    "\n",
    "- **FCC’s Affordable Connectivity Program (ACP):** Offers discounted internet service and devices to low-income families.\n",
    "- **Libraries and Schools:** Many have tech lending programs for devices and Wi-Fi hotspots.\n",
    "- **Nonprofits:** Organizations like *EveryoneOn* and *Computers for Kids* help distribute devices and provide training.\n",
    "- **COVID-era Initiatives:** Many school districts distributed Chromebooks and mobile hotspots to students during the pandemic.\n",
    "\n",
    "---\n",
    "\n",
    "## ➕ What Else We Can Add\n",
    "\n",
    "1. **Tech Equity Zones**\n",
    "   - Designate areas in each community where anyone can access free internet, charging stations, and digital help desks.\n",
    "\n",
    "2. **Youth Tech Ambassador Programs**\n",
    "   - Train high school students to teach tech skills in their communities, giving them leadership opportunities while helping others.\n",
    "\n",
    "3. **Incentivize Businesses to Help**\n",
    "   - Give local businesses tax breaks if they donate tech or offer free services to low-income residents.\n",
    "\n",
    "4. **Encourage Public-Private Partnerships**\n",
    "   - Get tech companies like Google, Microsoft, or local ISPs involved in community outreach efforts.\n",
    "\n",
    "---\n",
    "\n",
    "## 🧠 Final Thought\n",
    "\n",
    "Fixing the digital divide isn’t just about handing out devices—it’s about making sure people know how to use them and have reliable access. It requires a mix of technology, education, and community support. With a united effort, we can ensure everyone, no matter their background, gets the digital tools they need to succeed.\n",
    "\n",
    "\n",
    "\n"
   ]
  },
  {
   "cell_type": "markdown",
   "metadata": {},
   "source": [
    "## Popcorn Hack #3\n",
    "\n"
   ]
  },
  {
   "cell_type": "markdown",
   "metadata": {},
   "source": [
    "## Homework Hack 1\n",
    "\n",
    "\n"
   ]
  },
  {
   "cell_type": "markdown",
   "metadata": {},
   "source": [
    "# Homework Hack #2: Ethical AI Coding Challenge\n",
    "Problem: AI-generated misinformation (e.g., deepfakes and fake news).\n",
    "\n",
    "Risk: AI can create fake videos, images, and articles that spread misinformation, influencing public opinion, elections, and trust in real news sources. This can lead to social unrest, deception, and loss of credibility in media.\n",
    "\n",
    "Solution 1: Implement AI-powered fact-checking tools that analyze and verify the accuracy of AI-generated content before it spreads online.\n",
    "\n",
    "Solution 2: Require digital watermarks and metadata tracking for AI-generated media, making it easier to detect and flag fake content.\n",
    "\n",
    "Reflection: Ethical AI development is crucial to prevent harm and maintain trust in technology. Without responsible safeguards, AI can be misused to manipulate people and spread false information. By incorporating transparency and verification systems, we can ensure AI is used to inform rather than deceive.\n",
    "\n",
    "\n",
    "\n",
    "## Homework Hack #3  \n",
    "\n",
    "**AI Example**: Amazon's AI Recruiting Tool\n",
    "\n",
    "**What Happened**:\n",
    "Amazon developed an AI system in the 2010s to automate the process of reviewing job applicants’ resumes. The AI was trained using data from resumes submitted over a 10-year period, mostly by male applicants. As a result, the system began to favor male candidates and penalize resumes that included words like “women’s,” such as “women’s chess club captain.” It unintentionally learned to be biased against female applicants, reinforcing gender discrimination.\n",
    "\n",
    "**Response**:\n",
    "Once Amazon discovered the bias, the company disbanded the project in 2018 and did not deploy the AI recruiting tool for official hiring decisions. The incident also sparked broader discussions in the tech industry about fairness and bias in AI.\n",
    "\n",
    "**Prevention**:\n",
    "Developers could have avoided this problem by:\n",
    "\n",
    "- Auditing the training data for bias before using it.\n",
    "- Testing the AI’s outputs across different demographics (e.g., gender, race) during development.\n",
    "- Including diverse teams during AI development to catch blind spots.\n"
   ]
  }
 ],
 "metadata": {
  "language_info": {
   "name": "python"
  }
 },
 "nbformat": 4,
 "nbformat_minor": 2
}
